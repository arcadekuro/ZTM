{
 "cells": [
  {
   "cell_type": "markdown",
   "metadata": {},
   "source": [
    "## 178. Debugging \n",
    "Debugging - no one writes perfect programs. It's impossible. \n",
    "\n",
    "We're always going to make mistakes and programs are constantly being improved. We constantly improve our code as we find more and more mistakes.\n",
    "\n",
    "Programs are full of errors/exceptions or what we call 'bugs' at runtime (when the code is running).\n",
    "\n",
    "The act of finding and removing these errors from our code is called **debugging.** \n",
    "\n",
    "A big chunk of our  time as programmers is debugging code, whether it's our own code or other people's code and figuring out WHY something doesn't work. \n",
    "\n",
    "The senior developers are really good at debugging. \n",
    "\n",
    "Here are some recommendations for debugging and"
   ]
  },
  {
   "cell_type": "code",
   "execution_count": null,
   "metadata": {},
   "outputs": [
    {
     "name": "stdout",
     "output_type": "stream",
     "text": [
      "> <ipython-input-5-b29bc68ae754>(5)add()\n",
      "-> return n1 + n2\n"
     ]
    }
   ],
   "source": [
    "import pdb \n",
    "\n",
    "def add(n1, n2):\n",
    "    pdb.set_trace()\n",
    "    return n1 + n2\n",
    "\n",
    "add(5, 'g')\n"
   ]
  },
  {
   "cell_type": "code",
   "execution_count": null,
   "metadata": {},
   "outputs": [],
   "source": []
  }
 ],
 "metadata": {
  "kernelspec": {
   "display_name": "Python [default]",
   "language": "python",
   "name": "python3"
  },
  "language_info": {
   "codemirror_mode": {
    "name": "ipython",
    "version": 3
   },
   "file_extension": ".py",
   "mimetype": "text/x-python",
   "name": "python",
   "nbconvert_exporter": "python",
   "pygments_lexer": "ipython3",
   "version": "3.6.5"
  }
 },
 "nbformat": 4,
 "nbformat_minor": 2
}
