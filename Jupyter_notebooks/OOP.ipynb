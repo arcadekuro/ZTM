{
 "cells": [
  {
   "cell_type": "markdown",
   "metadata": {},
   "source": [
    "# Object Oriented Programming"
   ]
  },
  {
   "cell_type": "markdown",
   "metadata": {},
   "source": [
    "## 110. What is OOP?\n",
    "\n",
    "Everything in Python is an **_object_**\n",
    "\n",
    "What do we mean by that? \n",
    "If we print the types below to see the data types, we have a class keyword infont of the data types.\n",
    "Everyting here is an **object** because in python everything is built by the **class keyword**.\n",
    "\n",
    "We are able to use different methods on our objects, to perform some actions on them. "
   ]
  },
  {
   "cell_type": "code",
   "execution_count": 2,
   "metadata": {},
   "outputs": [
    {
     "name": "stdout",
     "output_type": "stream",
     "text": [
      "<class 'NoneType'>\n",
      "<class 'bool'>\n",
      "<class 'bool'>\n",
      "<class 'int'>\n",
      "<class 'float'>\n",
      "<class 'str'>\n",
      "<class 'list'>\n",
      "<class 'tuple'>\n",
      "<class 'dict'>\n"
     ]
    }
   ],
   "source": [
    "print(type(None))\n",
    "print(type(True))\n",
    "print(type(True))\n",
    "print(type(5))\n",
    "print(type(5.5))\n",
    "print(type('hi'))\n",
    "print(type([]))\n",
    "print(type(()))\n",
    "print(type({}))"
   ]
  },
  {
   "cell_type": "markdown",
   "metadata": {},
   "source": [
    "### What is an object?\n",
    "\n",
    "Objects have methods, and attributes that you can access with the (.)method. \n",
    "Object oriented porgramming allows us to go beyond  what python just gives us. Which are these data types, however we can make python more powerful by creating our own **data types**\n",
    "Using OOP and the class keyword will alow us to do just that. So that the list above  can grow to our own custom objects."
   ]
  },
  {
   "cell_type": "markdown",
   "metadata": {},
   "source": [
    "### Why is this useful?\n",
    "OOP is what we call a **paradigm** - a way for us to think about our code and structure our code so that it is easier to maintain, extend and write. As it gets bigger we are able to be organised. So it doesn't turn into chaos. Code becomes more and more files and code gets complicated because technology is everywhere. \n",
    "\n",
    "i.e. An example would be drove delivery\n",
    "We need to break it up into smaller pieces or objects that represent the real world. For example:\n",
    "* Code an object(our own data type) which is the propelers which allows the drone to fly.\n",
    "* Another developer could code the camera and the vision part of the drone.\n",
    "* Another developer could create the claws to hold the package\n",
    "* And another would create Object for signalling.\n",
    "What we're doing here is breaking up data and functionality into different pieces that model the real world. Seperate objects, so that different people can work on different parts which can then be combined afterwards. \n",
    "\n",
    "The beauty is that when we want  to create a different delivery service we can still use some of the objects from the drone but combine it with new pieces. This extends functionality from our drone into different objects. \n",
    "\n",
    "The main takeaway is that **OOP is a paradigm, a way to think about to code and structure it, so that as it gets bigger we're able to be organised as the codebase becomes bigger so it doesn't end up with thousands of lines of code**"
   ]
  },
  {
   "cell_type": "markdown",
   "metadata": {},
   "source": [
    "## 111. What is OOP part 2\n",
    "\n",
    "[Hisotry of programming languages](https://en.wikipedia.org/wiki/History_of_programming_languages)\n",
    "\n",
    "Previously coding languages were very low level, close to machine language(assembly). The first OOP language was **smalltalk**. \n",
    "\n",
    "Before this point we wrote in **procedural code**, just like a procedure, line 1-100 going from the top to the bottom. Us telling the machine to do instructions exactly. \n",
    "\n",
    "The introduction of OOP paradigms lead to changes and modelling something in code that represents a real world object. \n",
    "\n",
    "E.g. To code a car you would create a code object that has data on what color it is, what type of engine it has, but also actions(like methods that we can take on it). E.g. the car can go forwards/backwards. Instead of having lines of code we could think in terms of models - real world blueprints. \n",
    "\n",
    "As humans we organise things,  by organising things and having specific groups (classes) in a specific location working together, this is a better way to think as well as to run things. \n",
    "\n",
    "Python supports OOP ideas. "
   ]
  },
  {
   "cell_type": "markdown",
   "metadata": {},
   "source": [
    "### In python there are class keywords, what is that?\n",
    "In python you can create you own class or data type simply by typing 'class'.\n",
    "The naming convention is different from functions. Make sure that the name of the class is **capitalised**\n",
    "\n",
    "Use **camelcase** not **snakecase**\n",
    "camelcase = every new word has a capital letter"
   ]
  },
  {
   "cell_type": "code",
   "execution_count": 4,
   "metadata": {},
   "outputs": [],
   "source": [
    "class BigObj:\n",
    "    pass"
   ]
  },
  {
   "cell_type": "code",
   "execution_count": 7,
   "metadata": {},
   "outputs": [
    {
     "name": "stdout",
     "output_type": "stream",
     "text": [
      "<class 'type'>\n"
     ]
    }
   ],
   "source": [
    "# if you then check the type of BigOb:\n",
    "print(type(BigObj))"
   ]
  },
  {
   "cell_type": "markdown",
   "metadata": {},
   "source": [
    "We still get class bececause we've created the blueprint but not the object. we can now create one:"
   ]
  },
  {
   "cell_type": "code",
   "execution_count": 8,
   "metadata": {},
   "outputs": [
    {
     "name": "stdout",
     "output_type": "stream",
     "text": [
      "<class '__main__.BigObj'>\n"
     ]
    }
   ],
   "source": [
    "obj1 = BigObj()\n",
    "print(type(obj1))"
   ]
  },
  {
   "cell_type": "markdown",
   "metadata": {},
   "source": [
    "we've just created our own object. \n",
    "In OOP a class is the blueprint of what we want to create. What are the basic attributes, that is properties that our class has. From the blueprint we can create different objects over and over, using it as the building block. \n",
    "\n",
    "The class can be  **instatiated**(the action of creating different instances). The different **_instances_** are all objects. \n",
    "\n",
    "This is similar to creating a list for example. You can create multiple lists over and over. You have access to methods and attributes. This saves a lot of time instead of coding it again each time. \n",
    "\n",
    "The blueprint itself if going to be stored in memory. "
   ]
  },
  {
   "cell_type": "markdown",
   "metadata": {},
   "source": [
    "## 112. Creating Our Own objects\n",
    "\n",
    "Let's say we're working for a gaming company, and they have a wizard game they would like to create. Similar to Harry Potter. Each player needs a character to play."
   ]
  },
  {
   "cell_type": "code",
   "execution_count": 3,
   "metadata": {},
   "outputs": [],
   "source": [
    "\"\"\"\n",
    "learning about classes. \n",
    "brief =  game company wants to create\n",
    "a wizard game\n",
    "how to think about it in OOP. \n",
    "\n",
    "When creating a class it should be signular:\n",
    "IT IS A blueprint & we will create characterS from it.\n",
    "\n",
    "\"\"\"\n",
    "# when creating class it should be a singular.\n",
    "\n",
    "\n",
    "class PlayerCharacter:\n",
    "    #class object Attribute \n",
    "    membership = True\n",
    "    def __init__(self, name, age):\n",
    "        if (self.membership):\n",
    "            self.name = name # attributes/properties \n",
    "            self.age = age \n",
    "\n",
    "    def shout(self):\n",
    "        print(f'my name is {self.name}!')\n",
    "    \n",
    "    def run(self):\n",
    "        print('run')\n",
    "        return 'done'\n"
   ]
  },
  {
   "cell_type": "code",
   "execution_count": 4,
   "metadata": {},
   "outputs": [
    {
     "name": "stdout",
     "output_type": "stream",
     "text": [
      "spartacus\n",
      "<__main__.PlayerCharacter object at 0x10469a048>\n"
     ]
    }
   ],
   "source": [
    "player1 = PlayerCharacter('spartacus', 35)\n",
    "print(player1.name)\n",
    "print(player1)"
   ]
  },
  {
   "cell_type": "markdown",
   "metadata": {},
   "source": [
    "Above we have just created a class. \n",
    "`def __init__`\n",
    "This is a special method. The two underlines are called a **dunder** method or 'magic method'. \n",
    "When building a clas `__init__` is seen at the top. This is often called a **contructor method** or **init method**. \n",
    "This is automatically called any time we *instatiate* (calling the class to create an object). It will automatically call whatever is in the code block. We are shown a memory location for the object.\n",
    "\n",
    "#### what is the self keyword?\n",
    "This is a way for us to define self, and self refers to the player character. \n",
    "The default and first parameter when defining a method is also self also. \n",
    "For example previously we used the `.append()` function to add items to a list. Someone wrote this append code and inside it will say self.add to list. `self` refers to whatever is to the left of the `.` e.g:\n",
    "`[].append('hi')`\n",
    "\n",
    "**This allows us to have a reference to something that hasn't yet been created yet.**\n",
    "\n",
    "In this case, player1. Which tells the interpreter that when player1 is created/instatiated, it will make sure it has certain attributes. i.e name"
   ]
  },
  {
   "cell_type": "code",
   "execution_count": 6,
   "metadata": {},
   "outputs": [
    {
     "name": "stdout",
     "output_type": "stream",
     "text": [
      "dumbledore\n",
      "run\n",
      "done\n"
     ]
    }
   ],
   "source": [
    "player2 = PlayerCharacter('dumbledore', 1005)\n",
    "print(player2.name)\n",
    "print(player2.run())"
   ]
  },
  {
   "cell_type": "markdown",
   "metadata": {},
   "source": [
    "When we create another object or 'player' then we don't repeat ourselves. #DRY (DON'T REPEAT YOURSELF). \n",
    "The class object is dynamic, and the data created for the object is going to change based on what we give it. \n",
    "So we can create different players with different attributes and still use the same code. \n",
    "\n",
    "Each object is at different memory  locations. We are able to use once piece of code/blueprint to create multiple players that are different/live in different place in memory. (of course! we don't want two of the same player!)\n"
   ]
  },
  {
   "cell_type": "markdown",
   "metadata": {},
   "source": [
    "## 113. Attributes and methods \n",
    "\n",
    "**object oriented programming** allows us to create objects that have their own methods and attributes (properties). This is a great way to add more fucntionality in the real world. OOP allows us to write code that is **repeatable, well organised and also memory efficient** \n",
    "Think less procedural and thinking more in terms of functionality grouping data like attributes together with methods to create this class  that is able to mimic something from the real world. "
   ]
  },
  {
   "cell_type": "code",
   "execution_count": 19,
   "metadata": {},
   "outputs": [
    {
     "name": "stdout",
     "output_type": "stream",
     "text": [
      "50\n"
     ]
    }
   ],
   "source": [
    "player2.attack = 50 \n",
    "print(player2.attack)"
   ]
  },
  {
   "cell_type": "markdown",
   "metadata": {},
   "source": [
    "We can also add more attributes by assigning them similarly to variables. \n",
    "In an editor when you white `<object>.` this will show you all the methods that are available. There are the methods you have created but also some default `_dunder_` methods. "
   ]
  },
  {
   "cell_type": "code",
   "execution_count": 20,
   "metadata": {},
   "outputs": [
    {
     "name": "stdout",
     "output_type": "stream",
     "text": [
      "Help on PlayerCharacter in module __main__ object:\n",
      "\n",
      "class PlayerCharacter(builtins.object)\n",
      " |  Methods defined here:\n",
      " |  \n",
      " |  __init__(self, name, age)\n",
      " |      Initialize self.  See help(type(self)) for accurate signature.\n",
      " |  \n",
      " |  run(self)\n",
      " |  \n",
      " |  ----------------------------------------------------------------------\n",
      " |  Data descriptors defined here:\n",
      " |  \n",
      " |  __dict__\n",
      " |      dictionary for instance variables (if defined)\n",
      " |  \n",
      " |  __weakref__\n",
      " |      list of weak references to the object (if defined)\n",
      "\n"
     ]
    }
   ],
   "source": [
    "help(player2)"
   ]
  },
  {
   "cell_type": "markdown",
   "metadata": {},
   "source": [
    "Help gives you the entire bluprint of the object. This is a great way to show what the class blueprints have in python. \n",
    "\n",
    "#### Attributes\n",
    "Earlier we gave the class of PlayerCharacter the characteristics of age and name. \n",
    "Atributes are pieces of data that are **dynamic**. That is when we instatiate an object, they are going to be unique to that specific object like name and age. We have to use the self keyword to make sure it was dynamic. \n",
    "There is also the **class object attribute**.\n",
    "\n",
    "We might want to make sure the player has a paid membership so we'd add `membership = True` before our def ` __init__`.\n",
    "\n",
    "The class object attribute is **static** NOT dynamic. "
   ]
  },
  {
   "cell_type": "code",
   "execution_count": 27,
   "metadata": {},
   "outputs": [
    {
     "name": "stdout",
     "output_type": "stream",
     "text": [
      "True\n"
     ]
    }
   ],
   "source": [
    "print(player1.membership)"
   ]
  },
  {
   "cell_type": "markdown",
   "metadata": {},
   "source": [
    "This is used when there is no change. True and exists for all objects. Doesn't change across instances. \n",
    "However a class attibute is changeable so must be refered to using `self.` first and used as a parameter inside a class function. `def run(self):`."
   ]
  },
  {
   "cell_type": "code",
   "execution_count": 33,
   "metadata": {},
   "outputs": [
    {
     "name": "stdout",
     "output_type": "stream",
     "text": [
      "my name is spartacus!\n"
     ]
    }
   ],
   "source": [
    "player1.shout()"
   ]
  },
  {
   "cell_type": "markdown",
   "metadata": {},
   "source": [
    "### 114. __init__\n",
    "\n",
    "The **constructor function** gets called everytime we instatiate an object. This is how we create custom objects. \n",
    "An interesting thing you can do here because you have control over how the instatiation happens, you can do  different safe guards. "
   ]
  },
  {
   "cell_type": "code",
   "execution_count": 30,
   "metadata": {},
   "outputs": [],
   "source": [
    "class Person:\n",
    "    def __init__(self, name='anonymous', age=20):\n",
    "        if (age > 18):\n",
    "            self.name = name\n",
    "            self.age = age\n",
    "        \n",
    "    def talk(self):\n",
    "        response = input(f'Hi i\\'m {self.name}. Who are you?\\n')\n",
    "        print(f'well {response}, it\\'s time we take an adventure!')\n"
   ]
  },
  {
   "cell_type": "code",
   "execution_count": null,
   "metadata": {},
   "outputs": [],
   "source": [
    "player1 = Person()\n",
    "player1.talk()"
   ]
  },
  {
   "cell_type": "markdown",
   "metadata": {},
   "source": [
    "We can also use  if statements inside the class or to put safeguards, or even use default parameters. "
   ]
  },
  {
   "cell_type": "markdown",
   "metadata": {},
   "source": [
    "### 115. Cats everywhere\n",
    "Practice below!"
   ]
  },
  {
   "cell_type": "code",
   "execution_count": 1,
   "metadata": {},
   "outputs": [
    {
     "name": "stdout",
     "output_type": "stream",
     "text": [
      "The oldest cat is 12 years old.\n"
     ]
    }
   ],
   "source": [
    "#Given the below class:\n",
    "class Cat:\n",
    "    species = 'mammal'\n",
    "    def __init__(self, name, age):\n",
    "        self.name = name\n",
    "        self.age = age\n",
    "    \n",
    "\n",
    "# 1 Instantiate the Cat object with 3 cats\n",
    "\n",
    "pepper = Cat('pepper', 12)\n",
    "tommy = Cat('Tommy', 9)\n",
    "aggie = Cat('Aggie', 3)\n",
    "\n",
    "\n",
    "# 2 Create a function that finds the oldest cat\n",
    "def oldest_cat(*args):\n",
    "    oldest = max(args)\n",
    "    return oldest\n",
    "\n",
    "oldest = oldest_cat(pepper.age, tommy.age, aggie.age)\n",
    "\n",
    "# 3 Print out: \"The oldest cat is x years old.\". x will be the oldest cat age by using the function in #2\n",
    "print(f'The oldest cat is {oldest} years old.')"
   ]
  },
  {
   "cell_type": "markdown",
   "metadata": {},
   "source": [
    "### 116. @classmethod and @staticmethod\n",
    "\n",
    "We learnt we were able to create an attribute for a class, but what about a method?\n",
    "Is there way to do what we did previously with attributes but for methods? There is!\n",
    "We use a **decorator**"
   ]
  },
  {
   "cell_type": "code",
   "execution_count": 25,
   "metadata": {},
   "outputs": [],
   "source": [
    "import turtle\n",
    "\n",
    "class Car:\n",
    "    def __init__(self, name, year, model):\n",
    "        self.name = name \n",
    "        self.year = year\n",
    "        self.model = model\n",
    "    \n",
    "    \n",
    "    def say_drive(self):\n",
    "        print(\"Time to drive!\")\n",
    "    \n",
    "    def drive(self):\n",
    "        return self\n",
    "    \n",
    "    @classmethod\n",
    "    def adding_things(cls, num1, num2):  # needs to have the first parameter cls (class) like for self.\n",
    "        return (num1 + num2)\n",
    "    \n",
    "    @staticmethod  # works the same except to access to the cls. \n",
    "    def substracting_things(num1, num2):\n",
    "        return num1 - num2"
   ]
  },
  {
   "cell_type": "code",
   "execution_count": 27,
   "metadata": {},
   "outputs": [
    {
     "name": "stdout",
     "output_type": "stream",
     "text": [
      "5\n"
     ]
    }
   ],
   "source": [
    "car1 = Car('Audi', 2018, 'TT')\n",
    "print(car1.adding_things(2,3))"
   ]
  },
  {
   "cell_type": "markdown",
   "metadata": {},
   "source": [
    "But how is the above any different from a normal function?\n",
    "How is this  a class method? "
   ]
  },
  {
   "cell_type": "code",
   "execution_count": 15,
   "metadata": {},
   "outputs": [
    {
     "data": {
      "text/plain": [
       "17"
      ]
     },
     "execution_count": 15,
     "metadata": {},
     "output_type": "execute_result"
    }
   ],
   "source": [
    "Car.adding_things(7, 10)"
   ]
  },
  {
   "cell_type": "markdown",
   "metadata": {},
   "source": [
    "### **It's because we can actually use this without instantiating a class!***\n",
    "It's a method in the actual class. A class method. Class methods aren't used as often, but there are some cases where it might be useful. For example we can use the cls to actually insatiate an object.\n",
    "\n",
    "Static methods don't have access to the class method, this is for use when we don't care about the class state.\n",
    "We use a class method when we care about about the attributes and possibly want to modify them or change them.\n"
   ]
  },
  {
   "cell_type": "markdown",
   "metadata": {},
   "source": [
    "### 118. DEVELOPER FUNDAMENTALS: V\n",
    "#### Test your assumptions! \n",
    "\n",
    "Anytime you learn something new, you need to test your understanding in your assumptions. You don't want to have any magic black box where things are happening that you don't understand. \n",
    "\n",
    "How can we test the self assumption with code? e.g. return self to see what is given.\n",
    "If self is refering to the object, how can we test this?\n"
   ]
  },
  {
   "cell_type": "code",
   "execution_count": 28,
   "metadata": {},
   "outputs": [
    {
     "name": "stdout",
     "output_type": "stream",
     "text": [
      "<__main__.Car object at 0x103e814e0>\n"
     ]
    }
   ],
   "source": [
    "print(car1.drive())"
   ]
  },
  {
   "cell_type": "markdown",
   "metadata": {},
   "source": [
    "This returns the object location of self. Think in your head, what is going to happen?\n",
    "what is the `__main__`?\n",
    "Question everything?  If you don't do that then you don't fully understand the concept. The idea is to test and test your own knowledge and learning through similar methods. "
   ]
  },
  {
   "cell_type": "markdown",
   "metadata": {},
   "source": [
    "### 119. Encapsulation\n",
    "\n",
    "In markdown there is the following idea:\n",
    "\n",
    "#### The four pillars of OOP \n",
    "The four things that object oriented programming does really well.\n",
    "1. Encapsulation\n",
    "2. Abstraction\n",
    "3. Inheritance\n",
    "4. Polymorphism\n",
    "\n",
    "We have already learnt the first one, the idea of encapsultation. Encapsulation is the binding of **data** and **functions** that manipulate that data. We encapsulate into one big object so that we keep everything in this box that users or code, or other machines can interact with. This data and functions is what we call attributes and methods. \n",
    "\n",
    "We're able to encapsulate the functionality of a player, character, or any object by having name and age data (Attibutes) and also have functions that can act upon this name and age. \n",
    "\n",
    "E.g. you can have a method for shout or speak, and the method can use name and age attributes. By using encapsulation this is packaged up into a **blueprint** that multiple objects can created from. \n",
    "\n",
    "We've also seen this in built in data types in python. \n",
    "\n",
    "**Why do we want  to package data and functions into attributes and methods?**\n",
    "Because this gives us extra power. If for example, our earlier  PlayerCharacter class, doesn't have any actions, or methods and just attributes, then the class would simply be a dictionary. Slightly useless. \n"
   ]
  },
  {
   "cell_type": "code",
   "execution_count": 14,
   "metadata": {},
   "outputs": [
    {
     "name": "stdout",
     "output_type": "stream",
     "text": [
      "dumbledore\n",
      "severus\n",
      "dict_values(['severus', 67])\n"
     ]
    }
   ],
   "source": [
    "print(player2.name)\n",
    "\n",
    "#difference to a dictionary is how the attributes are accessed \n",
    "player3 = {\n",
    "    'name': 'severus',\n",
    "    'age': 67\n",
    "}\n",
    "print(player3['name'])\n",
    "print(player3.values())"
   ]
  },
  {
   "cell_type": "markdown",
   "metadata": {},
   "source": [
    "Whilst a dictionary has this ability, a class allows us to package things. We're able to mimic what happens in the real world."
   ]
  },
  {
   "cell_type": "markdown",
   "metadata": {},
   "source": [
    "### 120. Abstraction \n",
    "This is the second pillar of OOP. \n",
    "**Abstraction means hiding of information or abstracting away information and giving  access to only what is necessary**\n",
    "Whatever the user/programmer or machine is interested in - that's the only thing we give access to. Everything else we hide it  in a blanket under the hood because our users don't have to worry about it. \n",
    "\n",
    "Abstraction can be seen in all our above Classes. You only know that objects created have access to methods but you don't need to see the inner workings of it. \n",
    "\n",
    "Objects in an OOP language provide an abstraction that hides the internal implementation details. Similar to the coffee machine in your kitchen, you just need to know which methods of the object are available to call and which input parameters are needed to trigger a specific operation."
   ]
  },
  {
   "cell_type": "code",
   "execution_count": 20,
   "metadata": {},
   "outputs": [
    {
     "name": "stdout",
     "output_type": "stream",
     "text": [
      "2\n",
      "3\n"
     ]
    }
   ],
   "source": [
    "# we don't need to know how count is implemented in order to use it. \n",
    "# count the number of times a number appears. \n",
    "print((1,2,3, 3).count(3))\n",
    "print(len((1, 2, 3)))"
   ]
  },
  {
   "cell_type": "markdown",
   "metadata": {},
   "source": [
    "OOP abstracts away things we don't need to see. Or at least it makes us more efficient so that we know that it works a certain way and we're not wasting out time learning or coding from scratch. \n",
    "\n",
    "However sometimes if a fucntion is overwritten because of abstraction isn't this bad?"
   ]
  },
  {
   "cell_type": "markdown",
   "metadata": {},
   "source": [
    "### 121. Private vs Public variables\n",
    "\n",
    "In python there is this idea of public and private. This is related to our discussion of abstraction, the idea  behind abstraction is that we hide away information and only give access to things that a user is concerned about. Ideally we shouldn't have access to `__init__` or to modify functions encapsulated in the class. Because for the playercharacter example, when we create a player character in our game hopefully the player can't change their name/age. \n",
    "\n",
    "Some languages allow us to have private variables e.g. in Java. However there are no true private variables so how do we get around this? use `self._name` or `self._age` - this is just a convention, this determines that if someone else see underscore in our code then someone else will see that technically it should be a private variable. **Underscore means please DON'T TOUCH**  & do not overwrite the function (in the contenxt of classes).\n",
    "\n",
    "Dunder methods are also a convention to let others know to not touch or modfy them. \n"
   ]
  },
  {
   "cell_type": "markdown",
   "metadata": {},
   "source": [
    "### 122. Inheritance\n",
    "The third pillar of OOP is inheritance, and inheretence allows new objects to take the properties of exisiting objects. So you can inherit classes. For example we want to create a new game and have different types of users, users that can be wizards, elfs etc. But all these users have common functionality and each one of the sub users have some common shared functionality but maybe different attacks."
   ]
  },
  {
   "cell_type": "code",
   "execution_count": 76,
   "metadata": {},
   "outputs": [
    {
     "name": "stdout",
     "output_type": "stream",
     "text": [
      "logged in\n"
     ]
    }
   ],
   "source": [
    "\"\"\"ideally all of these different classes are users that can have multiple forms.\n",
    "However, how can we make sure they all have access?? Easily, using inheritance. \n",
    "we can pass into the  subclasses the parent class that we want to inherit from\"\"\"\n",
    "\n",
    "\n",
    "# No init method? but if we don't have any variables or attributes to assign to the user then \n",
    "# we wouldn't need an __init__ method. \n",
    "class User():\n",
    "    def __init__(self, email):\n",
    "        self.email = email\n",
    "        \n",
    "    def sign_in(self):\n",
    "        return 'logged in'\n",
    "    \n",
    "    def attack(self):\n",
    "        return print('do nothing')\n",
    "\n",
    "class Wizard(User):\n",
    "    def __init__(self, name, power, email):\n",
    "        User.__init__(self, email)\n",
    "        self.name = name\n",
    "        self.power = power\n",
    "    \n",
    "    def attack(self):\n",
    "        User.attack(self)\n",
    "        return print(f'attacking with power of {self.power}')\n",
    "\n",
    "class Archer(User):\n",
    "    def __init__(self, name, num_arrows):\n",
    "        self.name = name\n",
    "        self.num_arrows = num_arrows\n",
    "    \n",
    "    def attack(self):\n",
    "        return print(f'attacking with arrows: arrows left - {self.num_arrows}')\n",
    "\n",
    "\n",
    "wizard1 = Wizard('Merlin', 50, 'merlin@gmail.com')\n",
    "archer1 = Archer('Robin', 100)\n",
    "# inherited the functionality. \n",
    "print(wizard1.sign_in())"
   ]
  },
  {
   "cell_type": "markdown",
   "metadata": {},
   "source": [
    "This is powerful because you can extend the functionality. So above, the Wizard & Archer will have sign ins but they'll also have the attack but unique to their individual classes. They will also have different properties:"
   ]
  },
  {
   "cell_type": "code",
   "execution_count": 63,
   "metadata": {},
   "outputs": [
    {
     "name": "stdout",
     "output_type": "stream",
     "text": [
      "attacking with power of 50\n"
     ]
    }
   ],
   "source": [
    "wizard1.attack()"
   ]
  },
  {
   "cell_type": "code",
   "execution_count": 64,
   "metadata": {},
   "outputs": [
    {
     "name": "stdout",
     "output_type": "stream",
     "text": [
      "attacking with arrows: arrows left - 100\n"
     ]
    }
   ],
   "source": [
    "archer1.attack()"
   ]
  },
  {
   "cell_type": "markdown",
   "metadata": {},
   "source": [
    "This is the power of inheritance. We're abstracting away the part of the code that both of the different User types share but, then changing things according to what each one needs. You could have different properties and methods on wizard than the archer but also have shared user functionality that they have. This gives our code organised and clear. **Inheritance is powerful. The key here is that we have a parent class and children classes**\n",
    "\n",
    "Sometimes these child chlasses are called **subclasses** or **derived classes** because they're subclasses of user or derived from the user class. "
   ]
  },
  {
   "cell_type": "markdown",
   "metadata": {},
   "source": [
    "### 123. Inheritance part 2 \n",
    "\n",
    "Python gives us a useful tool to check is something is an *instance* of a class. "
   ]
  },
  {
   "cell_type": "code",
   "execution_count": 41,
   "metadata": {},
   "outputs": [
    {
     "name": "stdout",
     "output_type": "stream",
     "text": [
      "True\n"
     ]
    }
   ],
   "source": [
    "# built in function in python isinstance(instance, class) - to check\n",
    "print(isinstance(wizard1, Wizard))"
   ]
  },
  {
   "cell_type": "markdown",
   "metadata": {},
   "source": [
    "Where do the additional dunder methods come from when we use `.` after an object?\n",
    "Remember everything is an object in python and everything in python inherits from the base object class that Python comes with. It's called `object`\n"
   ]
  },
  {
   "cell_type": "code",
   "execution_count": 42,
   "metadata": {},
   "outputs": [
    {
     "name": "stdout",
     "output_type": "stream",
     "text": [
      "Help on class object in module builtins:\n",
      "\n",
      "class object\n",
      " |  The most base type\n",
      "\n"
     ]
    }
   ],
   "source": [
    "help(object)"
   ]
  },
  {
   "cell_type": "code",
   "execution_count": 44,
   "metadata": {},
   "outputs": [
    {
     "name": "stdout",
     "output_type": "stream",
     "text": [
      "True\n"
     ]
    }
   ],
   "source": [
    "print(isinstance(wizard1, object))"
   ]
  },
  {
   "cell_type": "markdown",
   "metadata": {},
   "source": [
    "wizard1 inherits or gets methods  from the Wizard class, from the User class, and even higher up from the  object base class that Python comes with. That's why we have the automatic methods attached for us so that using object every single method that is useful. \n",
    "\n",
    "For example, if you open up a list"
   ]
  },
  {
   "cell_type": "code",
   "execution_count": 45,
   "metadata": {},
   "outputs": [
    {
     "data": {
      "text/plain": [
       "'<__main__.Wizard object at 0x1046d7940>'"
      ]
     },
     "execution_count": 45,
     "metadata": {},
     "output_type": "execute_result"
    }
   ],
   "source": [
    "[].__repr__()\n",
    "## this is also is available for wizard\n",
    "wizard1.__repr__()"
   ]
  },
  {
   "cell_type": "markdown",
   "metadata": {},
   "source": [
    "This avoids repreating code. So underneath the hood when you make a new class, object is being inherited."
   ]
  },
  {
   "cell_type": "markdown",
   "metadata": {},
   "source": [
    "### 124. Polymorphism \n",
    "\n",
    "_poly_ (- meaning many), & _morphism_ (- meaning forms). Many forms, We know that methods  belog to objects, we use the self keyword to act upon the object that was instantiated now in python. In python, this idea of **polymorphism refers to the way in which object classes can share the same method name but those method names can act differently based on what object calls them.**\n",
    "\n",
    "We have our User, Wizard and Archer code used previously above. With polymorphism different object classes can share method names. e.g. attack is shared, but each one does something different based on the attribute. "
   ]
  },
  {
   "cell_type": "code",
   "execution_count": 49,
   "metadata": {},
   "outputs": [
    {
     "name": "stdout",
     "output_type": "stream",
     "text": [
      "attacking with power of 50\n",
      "attacking with arrows: arrows left - 100\n"
     ]
    }
   ],
   "source": [
    "print(wizard1.attack())\n",
    "print(archer1.attack())"
   ]
  },
  {
   "cell_type": "markdown",
   "metadata": {},
   "source": [
    "Wizard has a special meaning to attack versus Archer. They're different. Although they  share the same method names because of the object calling it, the output is going to be different. \n",
    "\n",
    "We can do something interesting here, by calling them in different ways. For example we could create an entire new function called player attack. "
   ]
  },
  {
   "cell_type": "code",
   "execution_count": 65,
   "metadata": {},
   "outputs": [
    {
     "name": "stdout",
     "output_type": "stream",
     "text": [
      "attacking with arrows: arrows left - 100\n"
     ]
    }
   ],
   "source": [
    "def player_attack(char):\n",
    "    char.attack()\n",
    "    \n",
    "player_attack(archer1)"
   ]
  },
  {
   "cell_type": "markdown",
   "metadata": {},
   "source": [
    "This will output different results based on what is being called - polymorphism. \n",
    "Another way to demonstrate this is if we do a for loop. Even though calling the same method, but for different objects."
   ]
  },
  {
   "cell_type": "code",
   "execution_count": 66,
   "metadata": {},
   "outputs": [
    {
     "name": "stdout",
     "output_type": "stream",
     "text": [
      "attacking with power of 50\n",
      "attacking with arrows: arrows left - 100\n"
     ]
    }
   ],
   "source": [
    "for char in [wizard1, archer1]:\n",
    "    char.attack()"
   ]
  },
  {
   "cell_type": "markdown",
   "metadata": {},
   "source": [
    "This is very powerful because we're able to customise this according to our specific needs even if let's  say that the user had a attack method. This would be overridden whatever the original attack was because we have that method in the Wizard attack method. "
   ]
  },
  {
   "cell_type": "markdown",
   "metadata": {},
   "source": [
    "But what if we want to have both user and Wizard run the attack method? we cando this by adding calling the object and function `User.attack(self)` within the Wizard method. Because you accept User as the parameter in the Wizard class. "
   ]
  },
  {
   "cell_type": "code",
   "execution_count": 71,
   "metadata": {},
   "outputs": [
    {
     "name": "stdout",
     "output_type": "stream",
     "text": [
      "do nothing\n",
      "attacking with power of 50\n",
      "None\n"
     ]
    }
   ],
   "source": [
    "print(wizard1.attack())"
   ]
  },
  {
   "cell_type": "markdown",
   "metadata": {},
   "source": [
    "Polymorphism allows us to have many forms. It is the ability to redifine methods for these derived classes that is wizard and archer. An object that is instatiated can behave in different forms/ways based on polymorphism. This is useful because we are able to modify our classes to our specific needs. Also, not have to repeat ourselves in case we want to use something like attack from user inside of wizard. "
   ]
  },
  {
   "cell_type": "code",
   "execution_count": 73,
   "metadata": {},
   "outputs": [
    {
     "name": "stdout",
     "output_type": "stream",
     "text": [
      "do nothing\n"
     ]
    }
   ],
   "source": [
    "new = User()\n",
    "new.attack()"
   ]
  },
  {
   "cell_type": "markdown",
   "metadata": {},
   "source": [
    "All these four pillars are key to OOP. However, you will not directly think of these concepts as you code, it will just happen as you go along. It will help strucutre the code. "
   ]
  },
  {
   "cell_type": "markdown",
   "metadata": {},
   "source": [
    "### 126. Super( )\n",
    "In the previous sections we looked @ how to call a method from a subclass of the parent class. The below string when added to doesn't work. The wizard alread has an init function. \n",
    "\n",
    "` class User():\n",
    "    def __init__(self, email):\n",
    "        self.email = email`\n",
    "        \n",
    "    `def sign_in(self):\n",
    "        return 'logged in'\n",
    "    \n",
    "    def attack(self):\n",
    "        return print('do nothing')`\n",
    "\n",
    "`class Wizard(User):\n",
    "    def __init__(self, name, power, email):\n",
    "        User.__init__(self, email)\n",
    "        self.name = name\n",
    "        self.power = power`\n",
    "   "
   ]
  },
  {
   "cell_type": "code",
   "execution_count": null,
   "metadata": {},
   "outputs": [],
   "source": [
    "\"\"\"\n",
    "Going to add a def__init__(self, email): function to the User Class, as all our users will need to have an email. \n",
    "\"\"\""
   ]
  },
  {
   "cell_type": "markdown",
   "metadata": {},
   "source": [
    "we can go round this by usuing the similar reference as before inside the subclass. `User.__init__(self,email)`"
   ]
  },
  {
   "cell_type": "markdown",
   "metadata": {},
   "source": [
    "However there is another way of doing this called 'super'. This refers to the super class or the class above the subclass `super().__init__(self, email):`. This is a new addition as of python 2.2. With Super  we no longer need the self. \n"
   ]
  },
  {
   "cell_type": "markdown",
   "metadata": {},
   "source": [
    "### 127. Object Introspection\n",
    "Introspection in computer programming means the ability to determine the type of an object at runtime.\n",
    "\n",
    "**What is runtime?**\n",
    "\n",
    "That is when the code is running. \n",
    "You can determine the type of an object, and it's actually one of pythons strengths because everything in Python is an object we can examine and introspect an object and actually figure out what our code does as we're codng and then running. Python allows us to do introspection and inspect these objects with some helper functions. "
   ]
  },
  {
   "cell_type": "code",
   "execution_count": 77,
   "metadata": {},
   "outputs": [
    {
     "name": "stdout",
     "output_type": "stream",
     "text": [
      "['__class__', '__delattr__', '__dict__', '__dir__', '__doc__', '__eq__', '__format__', '__ge__', '__getattribute__', '__gt__', '__hash__', '__init__', '__init_subclass__', '__le__', '__lt__', '__module__', '__ne__', '__new__', '__reduce__', '__reduce_ex__', '__repr__', '__setattr__', '__sizeof__', '__str__', '__subclasshook__', '__weakref__', 'attack', 'email', 'name', 'power', 'sign_in']\n"
     ]
    }
   ],
   "source": [
    "print(dir(wizard1))"
   ]
  },
  {
   "cell_type": "markdown",
   "metadata": {},
   "source": [
    "dir will give all of the methods and attributes that the wizard instant has access to. Whenever you use the `.` in an editor which pops up the list of available methods associated to an object, it is using this ability of introspection to list out these available methods just liked we have done above. Really useful when trying to figure out why you have access. There are also a lot of **magic/dunder methods**. \n"
   ]
  },
  {
   "cell_type": "markdown",
   "metadata": {},
   "source": [
    "### 128. Dunder methods - *** \n",
    "[Documentation](https://docs.python.org/3/reference/datamodel.html#special-method-names)\n",
    "\n",
    "We're able to see what our instance  has as methods using the `dir` function above. These were  inherited from our base object class. \n",
    "The underscores are special methods.  Remember how we have things like length for example, that allows us to tell the length of an array. These are actually implemented  using **dunder methods**. They allow us to use Python specific functions on objects created through our class. \n",
    "\n",
    "\n",
    "Dunder methods allow us to emulate some inbuilt behaviours in python. It's also  how we implement **operator overloading**. \n",
    "\n",
    "For example the addition operator has different behaviours depending on what data types you're working with. "
   ]
  },
  {
   "cell_type": "code",
   "execution_count": 93,
   "metadata": {},
   "outputs": [
    {
     "name": "stdout",
     "output_type": "stream",
     "text": [
      "red\n",
      "action_figure\n",
      "5\n",
      "yess?\n",
      "None\n",
      "yoyo\n"
     ]
    }
   ],
   "source": [
    "class Toy():\n",
    "    def __init__(self, color, age):\n",
    "        self.color = color\n",
    "        self.age = age\n",
    "        self.my_dict = {\n",
    "            'name': 'yoyo',\n",
    "            'has_pets': False\n",
    "        }\n",
    "    \n",
    "    def __str__(self):\n",
    "        return f'{self.color}'\n",
    "    \n",
    "    def __len__(self):\n",
    "        return 5\n",
    "        \n",
    "    def __call__(self):  # this is how we call functions under the hood. \n",
    "        return print('yess?')\n",
    "    \n",
    "    def __getitem__(self, i):\n",
    "        return self.my_dict[i]\n",
    "    \n",
    "action_figure = Toy('red', 0)\n",
    "print(action_figure.__str__())  # prints the location of toy in memory\n",
    "\n",
    "# this is the same as:\n",
    "print(str('action_figure'))\n",
    "print(len(action_figure))\n",
    "# del action_figure # delete can cause bugs we want to avoid. \n",
    "print(action_figure())\n",
    "\n",
    "print(action_figure['name']) # using bracket notation"
   ]
  },
  {
   "cell_type": "markdown",
   "metadata": {},
   "source": [
    "These double underscore Dunder methods are special methods that Python recognizes. For example the Dunder str  allows us to use action_figure as shown above.\n",
    "We can do basic customisations of dunder methods. **Usually you don't want to overwrite them BUT!***\n",
    "There are a specific few cases you will use them and the main idea is how know how to modify them and how they work under the hood. \n",
    "\n",
    "Above we will modify the str. The general rule is to not modify dunder methods but in some special cases where you want your class to behave a certain way. Just like dictionary, lists and tuples are objects in python can behave in certain ways. \n",
    "\n",
    "For examples how lists are accessed with a index number and dictionaries are accessed with a key. Those are all implemented using these dunder methods. As you can see above because we modified the `__Str__` we returned the object color when called on action figure. It doesn't change things other than in action figure. \n",
    "\n",
    "The dunder methods allows us to do custom modifying of our classes. You can also understand how in python our built in default types had access and abilities to have all these special syntax's. We now have that power as well. "
   ]
  },
  {
   "cell_type": "code",
   "execution_count": 94,
   "metadata": {},
   "outputs": [
    {
     "name": "stdout",
     "output_type": "stream",
     "text": [
      "1000\n",
      "5\n",
      "True\n"
     ]
    }
   ],
   "source": [
    "\n",
    "# Add code that allows us to access through index anyway a regular\n",
    "# list allows us to.\n",
    "# Super list should have a special dunder method\n",
    "\n",
    "# Use inheritance to acquire the powers of list so that\n",
    "# it becomes out parent class of Super list.\n",
    "\n",
    "\n",
    "class SuperList(list):  # extend the functionality of list\n",
    "    def __len__(self):\n",
    "        return 1000\n",
    "\n",
    "\n",
    "super_list1 = SuperList()\n",
    "\n",
    "print(len(super_list1))\n",
    "super_list1.append(5)\n",
    "print(super_list1[0])\n",
    "print(issubclass(SuperList, list))  # check if Superlist is a subclass of list\n"
   ]
  },
  {
   "cell_type": "markdown",
   "metadata": {},
   "source": [
    "Everything in python is an object that inherits from the base object class. We then inherit some built in list methods and we're able to use all of that in our superlist just by inheriting like shown above. "
   ]
  },
  {
   "cell_type": "markdown",
   "metadata": {},
   "source": [
    "### 130. Multiple inheritance \n",
    "Remember we have our User, Wizard and Archer classes. \n",
    "\n",
    "Say we want to have a new User type called `Hybridborg` which will have the powers wizards have which is attack, and has the powers archer has which is `check_arrows`, as well as run very fast. We can do this by passing in parametes to the class. As many as we would like. "
   ]
  },
  {
   "cell_type": "code",
   "execution_count": null,
   "metadata": {},
   "outputs": [],
   "source": [
    "class HybridBorg(Wizard, Archer):\n",
    "    pass"
   ]
  },
  {
   "cell_type": "markdown",
   "metadata": {},
   "source": [
    "However this becomes trickier, as when you you add multiple inheritance need to make sure certain methods/attributes aren't overwritten. When you do multiple inheritance, things can get complicated. We've added a lot of code that has become more complex and this is why multiple inheritance whilst very powerful but with great power comes great responsibility because we're creating more and more complexity. \n",
    "\n",
    "Part of the reason some programming languages don't allow you to do multiple inheritances. "
   ]
  },
  {
   "cell_type": "markdown",
   "metadata": {},
   "source": [
    "### 131. MRO - Method resolution order.\n",
    "[More details](http://www.srikanthtechnologies.com/blog/python/mro.aspx)"
   ]
  },
  {
   "cell_type": "code",
   "execution_count": 95,
   "metadata": {},
   "outputs": [],
   "source": [
    "class A:\n",
    "    num = 10 \n",
    "    \n",
    "class B(A):\n",
    "    pass\n",
    "\n",
    "class C(A):\n",
    "    num = 1\n",
    "\n",
    "class D(B, C):\n",
    "    pass "
   ]
  },
  {
   "cell_type": "markdown",
   "metadata": {},
   "source": [
    "D has multiple inheretance from B and C, B & C inherit from A. MRO is a rule that python follows, to determine when you run a method, which one to run. When you have such complicated inheritance structure MRO is a  rule of order. "
   ]
  },
  {
   "cell_type": "code",
   "execution_count": 96,
   "metadata": {},
   "outputs": [
    {
     "name": "stdout",
     "output_type": "stream",
     "text": [
      "1\n"
     ]
    }
   ],
   "source": [
    "print(D.num)"
   ]
  },
  {
   "cell_type": "markdown",
   "metadata": {},
   "source": [
    "MRO is simply asking what is next in line, like a venn diagram. There is a good way to check this. "
   ]
  },
  {
   "cell_type": "code",
   "execution_count": 97,
   "metadata": {},
   "outputs": [
    {
     "name": "stdout",
     "output_type": "stream",
     "text": [
      "[<class '__main__.D'>, <class '__main__.B'>, <class '__main__.C'>, <class '__main__.A'>, <class 'object'>]\n"
     ]
    }
   ],
   "source": [
    "print(D.mro())"
   ]
  },
  {
   "cell_type": "markdown",
   "metadata": {},
   "source": [
    "The above shows the order of the MRO of this class. it checks D first, then B then C and so on The finally it will check the bass class object (all objects in python inherit from this.) If we pass all of them the return will be an error. \n",
    "\n",
    "You might want to avoid or be conscious of MRO, based on the following example:"
   ]
  },
  {
   "cell_type": "code",
   "execution_count": 98,
   "metadata": {},
   "outputs": [],
   "source": [
    "class X:\n",
    "    pass\n",
    "\n",
    "class Y:\n",
    "    pass\n",
    "\n",
    "class Z:\n",
    "    pass\n",
    "\n",
    "class A(X, Y):\n",
    "    pass\n",
    "\n",
    "class B(Y, Z):\n",
    "    pass\n",
    "\n",
    "class M(B, A, Z):\n",
    "    pass "
   ]
  },
  {
   "cell_type": "code",
   "execution_count": 99,
   "metadata": {},
   "outputs": [
    {
     "name": "stdout",
     "output_type": "stream",
     "text": [
      "(<class '__main__.M'>, <class '__main__.B'>, <class '__main__.A'>, <class '__main__.X'>, <class '__main__.Y'>, <class '__main__.Z'>, <class 'object'>)\n"
     ]
    }
   ],
   "source": [
    "M.mro()\n",
    "print(M.__mro__)"
   ]
  },
  {
   "cell_type": "markdown",
   "metadata": {},
   "source": [
    "The interpreter passes through because of an algorithm called **depth first search** Python changed the mro roles from previous versions. You won't ever get tested on this. If you're using code where the inheritence look like this, this could be argued to be bad code because this is overly complicated. There's no code within the classes and it's already complicated. \n",
    "\n",
    "MRO is there to define what order classes will inherit in. You can use the mro function/dunder to check. It exists BUT you should not structure your code like this. However, now at least you'd know how to debug the code. \n",
    "\n",
    "When you call a method or an attribute, this is how to look up the **heirachy of inherintance** "
   ]
  },
  {
   "cell_type": "code",
   "execution_count": null,
   "metadata": {},
   "outputs": [],
   "source": []
  }
 ],
 "metadata": {
  "kernelspec": {
   "display_name": "Python [default]",
   "language": "python",
   "name": "python3"
  },
  "language_info": {
   "codemirror_mode": {
    "name": "ipython",
    "version": 3
   },
   "file_extension": ".py",
   "mimetype": "text/x-python",
   "name": "python",
   "nbconvert_exporter": "python",
   "pygments_lexer": "ipython3",
   "version": "3.6.5"
  }
 },
 "nbformat": 4,
 "nbformat_minor": 2
}
