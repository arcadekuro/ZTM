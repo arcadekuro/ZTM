{
 "cells": [
  {
   "cell_type": "markdown",
   "metadata": {},
   "source": [
    "## Errors in Python\n",
    "\n",
    "\n",
    "An unavoidable part of being a programmer is that your programs are going to give a lot of errors. You can't avoid bugs, and you can't avoid programs breaking. \n",
    "\n",
    "An error that crashes our programm is called an **exception** Python raises these exceptions whenever the interpreter is unsure of what you're doing, the intepreter stops running the program.\n",
    "\n",
    "If our programms error out that's bad, it could cost companies millions. So how do we handle the  errors? Using error handling!\n",
    "\n",
    "It's a natural part of being a programmer and a great programmer is able to handle errors in their program . \n",
    "\n",
    "Because instead of letting out programs just error we're able to handle them so that if we get something like a type error, we can handle that error within out programs. \n",
    "\n",
    "The key takeaway is that: **Error handling allows us to let the python script continue running even if there are errors**\n",
    "\n",
    "Types of errors:\n",
    "[Built-in exceptions](https://docs.python.org/3/library/exceptions.html)\n",
    "The most commong are:\n",
    "* Syntax error\n",
    "* Name error - name not defined\n",
    "* Index error\n",
    "* key error\n",
    "* ZeroDivisionError\n",
    "\n",
    "1. Type error \n",
    "2. Attribute error\n",
    "3. EOF - end of file error\n",
    "4. Name error etc etc."
   ]
  },
  {
   "cell_type": "code",
   "execution_count": 1,
   "metadata": {},
   "outputs": [
    {
     "ename": "SyntaxError",
     "evalue": "invalid syntax (<ipython-input-1-ab5bd98c973c>, line 2)",
     "output_type": "error",
     "traceback": [
      "\u001b[0;36m  File \u001b[0;32m\"<ipython-input-1-ab5bd98c973c>\"\u001b[0;36m, line \u001b[0;32m2\u001b[0m\n\u001b[0;31m    def hooohooo()\u001b[0m\n\u001b[0m                  ^\u001b[0m\n\u001b[0;31mSyntaxError\u001b[0m\u001b[0;31m:\u001b[0m invalid syntax\n"
     ]
    }
   ],
   "source": [
    "#syntax error\n",
    "def hooohooo()\n",
    "    pass"
   ]
  },
  {
   "cell_type": "code",
   "execution_count": null,
   "metadata": {},
   "outputs": [],
   "source": [
    "def hoohoo():\n",
    "    li = [1,2,3]\n",
    "    li[5]\n",
    "    \n",
    "hoohoo()"
   ]
  },
  {
   "cell_type": "code",
   "execution_count": null,
   "metadata": {},
   "outputs": [],
   "source": [
    "# key error\n",
    "def hoho():\n",
    "    di = {'a': 1}\n",
    "    di['b']\n",
    "    \n",
    "hoho()"
   ]
  },
  {
   "cell_type": "code",
   "execution_count": null,
   "metadata": {},
   "outputs": [],
   "source": [
    "# zerodivision error\n",
    "def wut():\n",
    "    5/0\n",
    "    \n",
    "wut()"
   ]
  },
  {
   "cell_type": "markdown",
   "metadata": {},
   "source": [
    "Most of these will come up in your program from time to time and you'll know what they are/no need to memorise them. The question to ask yourself is how to avoid them. Because most programs aren't just us typing. They usually interact with the outside world. i.e a person logging in or a users playing a character. \n",
    "\n",
    "Have to make sure the input they get is the right type they're expecting because if they recieve something that they didn't expect. Need to handle situations where the user will give bad input\n"
   ]
  },
  {
   "cell_type": "markdown",
   "metadata": {},
   "source": [
    "## 153. Error Handling\n",
    "Allows us to let the script continue running even if there is an error\n"
   ]
  },
  {
   "cell_type": "code",
   "execution_count": null,
   "metadata": {},
   "outputs": [],
   "source": [
    "# How can we make sure that it's a numerical value? - VALID INPUT\n",
    "age = input('what is your age?')\n",
    "print(age)"
   ]
  },
  {
   "cell_type": "code",
   "execution_count": null,
   "metadata": {},
   "outputs": [],
   "source": [
    "age = int(input('what is your age?'))\n",
    "print(age)"
   ]
  },
  {
   "cell_type": "code",
   "execution_count": null,
   "metadata": {},
   "outputs": [],
   "source": [
    "# How can we fix this?\n",
    "\"\"\" Anything that happens inside of the try block you can handle withe the except keyword.\n",
    "    Except says whatever is in the try block - if any error appears, I want you to say \n",
    "    something. \n",
    "\"\"\"\n",
    "\n",
    "try:\n",
    "    age = int(input('what is your age?'))\n",
    "    print(age)\n",
    "except:\n",
    "    print('please enter a numer')\n",
    "    "
   ]
  },
  {
   "cell_type": "markdown",
   "metadata": {},
   "source": [
    "The errors are being handled by wrapping all the code in a try block.  Instead of the programing erroring out before the program crashes, if within the block anything happens. Trap it in the except block, and after, do whatever you want. However we still have a problem - the program instantly quits after running the except code block. we can get around this by using a while loop\n"
   ]
  },
  {
   "cell_type": "code",
   "execution_count": null,
   "metadata": {},
   "outputs": [],
   "source": [
    "while True:\n",
    "    try:\n",
    "        age = int(input('what is your age?'))\n",
    "        print(f'{age}, so young!')\n",
    "    except:\n",
    "        print('please enter a number')"
   ]
  },
  {
   "cell_type": "markdown",
   "metadata": {},
   "source": [
    "Now the next problem is that, the code continuously asks for input. "
   ]
  },
  {
   "cell_type": "code",
   "execution_count": null,
   "metadata": {},
   "outputs": [],
   "source": [
    "while True:\n",
    "    try:\n",
    "        age = int(input('what is your age?'))\n",
    "        print(f'{age}, so young!')\n",
    "    except:\n",
    "        print('please enter a number')\n",
    "    else:\n",
    "        print('Thank you')\n",
    "        break"
   ]
  },
  {
   "cell_type": "markdown",
   "metadata": {},
   "source": [
    "This try/except block can go anywhere, we can wrap our entire file in a try except block. We can add inside each individual function. This is just another tool to handle errors. However this is a bugg program because if we were change what is done with the age, others may come up. How do we deal with different errors. You can pass in built-in exceptions"
   ]
  },
  {
   "cell_type": "code",
   "execution_count": 3,
   "metadata": {},
   "outputs": [
    {
     "name": "stdout",
     "output_type": "stream",
     "text": [
      "How old are you?0\n",
      "please enter a number above 0 \n",
      "How old are you?10\n",
      "1.0\n",
      "Is that what you expected?\n"
     ]
    }
   ],
   "source": [
    "while True:\n",
    "    try:\n",
    "        age = int(input('How old are you?'))\n",
    "        print(10/age)\n",
    "    except ValueError:\n",
    "        print('please enter a number')\n",
    "    except ZeroDivisionError:\n",
    "        print('please enter a number above 0 ')\n",
    "    else:\n",
    "        print('Is that what you expected?')\n",
    "        break"
   ]
  },
  {
   "cell_type": "markdown",
   "metadata": {},
   "source": [
    "The except block runs only once after catching an error and then come back to the while loop. "
   ]
  },
  {
   "cell_type": "markdown",
   "metadata": {},
   "source": [
    "## 154. Error Handling 2\n",
    "Another example of a simple sum function. "
   ]
  },
  {
   "cell_type": "code",
   "execution_count": 5,
   "metadata": {},
   "outputs": [
    {
     "ename": "TypeError",
     "evalue": "unsupported operand type(s) for +: 'int' and 'str'",
     "output_type": "error",
     "traceback": [
      "\u001b[0;31m---------------------------------------------------------------------------\u001b[0m",
      "\u001b[0;31mTypeError\u001b[0m                                 Traceback (most recent call last)",
      "\u001b[0;32m<ipython-input-5-df7e2cd134cb>\u001b[0m in \u001b[0;36m<module>\u001b[0;34m()\u001b[0m\n\u001b[1;32m      2\u001b[0m     \u001b[0;32mreturn\u001b[0m \u001b[0mnum1\u001b[0m \u001b[0;34m+\u001b[0m \u001b[0mnum2\u001b[0m\u001b[0;34m\u001b[0m\u001b[0m\n\u001b[1;32m      3\u001b[0m \u001b[0;34m\u001b[0m\u001b[0m\n\u001b[0;32m----> 4\u001b[0;31m \u001b[0mprint\u001b[0m\u001b[0;34m(\u001b[0m\u001b[0msum\u001b[0m\u001b[0;34m(\u001b[0m\u001b[0;36m1\u001b[0m\u001b[0;34m,\u001b[0m \u001b[0;34m'2'\u001b[0m\u001b[0;34m)\u001b[0m\u001b[0;34m)\u001b[0m\u001b[0;34m\u001b[0m\u001b[0m\n\u001b[0m",
      "\u001b[0;32m<ipython-input-5-df7e2cd134cb>\u001b[0m in \u001b[0;36msum\u001b[0;34m(num1, num2)\u001b[0m\n\u001b[1;32m      1\u001b[0m \u001b[0;32mdef\u001b[0m \u001b[0msum\u001b[0m\u001b[0;34m(\u001b[0m\u001b[0mnum1\u001b[0m\u001b[0;34m,\u001b[0m \u001b[0mnum2\u001b[0m\u001b[0;34m)\u001b[0m\u001b[0;34m:\u001b[0m\u001b[0;34m\u001b[0m\u001b[0m\n\u001b[0;32m----> 2\u001b[0;31m     \u001b[0;32mreturn\u001b[0m \u001b[0mnum1\u001b[0m \u001b[0;34m+\u001b[0m \u001b[0mnum2\u001b[0m\u001b[0;34m\u001b[0m\u001b[0m\n\u001b[0m\u001b[1;32m      3\u001b[0m \u001b[0;34m\u001b[0m\u001b[0m\n\u001b[1;32m      4\u001b[0m \u001b[0mprint\u001b[0m\u001b[0;34m(\u001b[0m\u001b[0msum\u001b[0m\u001b[0;34m(\u001b[0m\u001b[0;36m1\u001b[0m\u001b[0;34m,\u001b[0m \u001b[0;34m'2'\u001b[0m\u001b[0;34m)\u001b[0m\u001b[0;34m)\u001b[0m\u001b[0;34m\u001b[0m\u001b[0m\n",
      "\u001b[0;31mTypeError\u001b[0m: unsupported operand type(s) for +: 'int' and 'str'"
     ]
    }
   ],
   "source": [
    "def sum(num1, num2):\n",
    "    return num1 + num2\n",
    "\n",
    "print(sum(1, '2'))"
   ]
  },
  {
   "cell_type": "code",
   "execution_count": 7,
   "metadata": {},
   "outputs": [],
   "source": [
    "# We can a try block directly into the function\n",
    "def sum(num1, num2):\n",
    "    try:\n",
    "        return num1 + num2\n",
    "    except:\n",
    "        print('something is wrong')"
   ]
  },
  {
   "cell_type": "markdown",
   "metadata": {},
   "source": [
    "This however isn't readable because it doesn't show what kind of error the program is responding to. A good practice is to always catch these errors based on a specific exception. This way you know what the error is and you can be more descriptive.\n"
   ]
  },
  {
   "cell_type": "code",
   "execution_count": 13,
   "metadata": {},
   "outputs": [
    {
     "name": "stdout",
     "output_type": "stream",
     "text": [
      "Error: unsupported operand type(s) for +: 'int' and 'str'. Please enter numbers.\n"
     ]
    }
   ],
   "source": [
    "def add(num1, num2):\n",
    "    try:\n",
    "        return num1 + num2\n",
    "    except TypeError as err:\n",
    "        return f'Error: {err}. Please enter numbers.'\n",
    "\n",
    "# You can also pass in a variable to the except block which will return whatever the error is.\n",
    "print(add(1, '2'))\n"
   ]
  },
  {
   "cell_type": "markdown",
   "metadata": {},
   "source": [
    "Without the `str(err)` type conversion then an error would have occured - Type error. `During handling of the above exception, another exception occured`. This is because what we get as an error is not a string but an **error object** we could also use an f string. \n",
    "\n",
    "Another thing you can do is wrap these errors together to handle multiple errors the same way"
   ]
  },
  {
   "cell_type": "code",
   "execution_count": 17,
   "metadata": {},
   "outputs": [
    {
     "name": "stdout",
     "output_type": "stream",
     "text": [
      "division by zero\n"
     ]
    }
   ],
   "source": [
    "def divide(num1, num2):\n",
    "    try:\n",
    "        return num1/num2\n",
    "    except (TypeError, ZeroDivisionError) as err:\n",
    "        print(err)\n",
    "\n",
    "divide(1, 0)\n"
   ]
  },
  {
   "cell_type": "markdown",
   "metadata": {},
   "source": [
    "But what if we actually want to raise our own errors, that is we want to throw our own errors maybe inside inside of this except block you want the error to display for certain types of errors. "
   ]
  },
  {
   "cell_type": "markdown",
   "metadata": {},
   "source": [
    "## 155. Exercises: Error Handling\n",
    "Lets go back to our example of a game where we have a user login and they have to provide their age. \n",
    "There's one other piece to the try/except/else block that we haven't added yet. There's also another thing called finally. Finally runs at the end after everything has been executed. "
   ]
  },
  {
   "cell_type": "code",
   "execution_count": 1,
   "metadata": {},
   "outputs": [
    {
     "name": "stdout",
     "output_type": "stream",
     "text": [
      "How old are you?40\n",
      "Thank you!\n",
      "ok, I am finally done\n"
     ]
    }
   ],
   "source": [
    "while True:\n",
    "    try:\n",
    "        age = int(input('How old are you?'))\n",
    "    except ValueError:\n",
    "        print('please enter a number!')\n",
    "        continue # this will go back to the top of the loop\n",
    "    except ZeroDivisionError:\n",
    "        print('please enter a number greater than 0!')\n",
    "    else:\n",
    "        print('Thank you!')\n",
    "        break\n",
    "    finally:\n",
    "        print('ok, I am finally done')"
   ]
  },
  {
   "cell_type": "markdown",
   "metadata": {},
   "source": [
    "Finally says, no matter what, at the end of it all I want you to finally do something. However this still returns after everything, every else and except function. For example maybe working on a game server and you want to make sure that you log out any activity on the server. \n",
    "\n",
    "A user tries to log in and even if they try to enter the wrong information. We want to log that activity so that maybe we can detect that there's people trying to break our program.\n",
    "Or just to have our records that this user tried to log in x number of times. \n",
    "\n"
   ]
  },
  {
   "cell_type": "markdown",
   "metadata": {},
   "source": [
    "## 156. Error Handling 3\n",
    "\n",
    "We've now created a program that isn't going to error out. But sometimes errors and exceptions can be so severe that we do want to stop our programs from running. We do want to catch them with the except blog and stop what ever the program is doing. Instead of print maybe actually display the red to indicate something bad is happening. So in that case with either don't use the except block or we can use a raise value."
   ]
  },
  {
   "cell_type": "code",
   "execution_count": null,
   "metadata": {},
   "outputs": [],
   "source": [
    "while True:\n",
    "    try:\n",
    "        age = int(input('How old are you?'))\n",
    "        10/age\n",
    "        raise ValueError\n",
    "    except ValueError:\n",
    "        print('please enter a number!')\n",
    "        continue # this will go back to the top of the loop\n",
    "    except ZeroDivisionError:\n",
    "        print('please enter a number greater than 0!')\n",
    "    else:\n",
    "        print('Thank you!')\n",
    "        break\n",
    "    finally:\n",
    "        print('ok, I am finally done')"
   ]
  }
 ],
 "metadata": {
  "kernelspec": {
   "display_name": "Python [conda env:py3]",
   "language": "python",
   "name": "conda-env-py3-py"
  },
  "language_info": {
   "codemirror_mode": {
    "name": "ipython",
    "version": 3
   },
   "file_extension": ".py",
   "mimetype": "text/x-python",
   "name": "python",
   "nbconvert_exporter": "python",
   "pygments_lexer": "ipython3",
   "version": "3.7.0"
  }
 },
 "nbformat": 4,
 "nbformat_minor": 2
}
