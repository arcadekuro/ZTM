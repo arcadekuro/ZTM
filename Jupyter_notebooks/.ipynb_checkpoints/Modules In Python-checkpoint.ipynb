{
 "cells": [
  {
   "cell_type": "markdown",
   "metadata": {},
   "source": [
    "## 164. Modules In Python\n",
    "Up to this point we've learnt about  ways to organise our python code in a file. Our entire code has been so far on one single file. \n",
    "\n",
    "Next we learned about functions to write code that could be used repeatedly - call the functions & over. \n",
    "\n",
    "**Classes**- blueprints  to create objects from and instatiate ne Python Data types beyond the ones given. Able to box our code up and give each class a certain method and attribute that packages it nicely for us.\n",
    "\n",
    "***Functional programming** - how unlike OOP, with FP we use a lot of pure functions and we have data that we pass into those functions.\n",
    "\n",
    "All of these things were to keep our code clean, more maintainable, thus making the code more contained and organised. As we write more lines of code it gets harder and harder to keep everything in your head. Other  programmers need an easy way to understand the code. \n",
    "\n",
    "However, we still have a problem, and that problem is that everything is containiend in one file. All the functions, all the classes we've been writing. \n",
    "\n",
    "We have a lot more code and we can't have millions of lines of code in one file. So how do we stay organised? \n",
    "\n",
    "Python files can be linked togehter and it's very common practice. This way of organising code is - module.\n",
    "\n",
    "**Each file, the .py file, is a module.** By builing these modules like we built different functions and different classes inside. \n",
    "\n",
    "When writing modules (filenames) we use the same principles as variables in python which is **snake case**. \n",
    "\n",
    "Divide up our code into chunks that make sense. \n",
    "\n",
    "#### Netflix example\n",
    "* A file dedicated to videos\n",
    "* file for user login\n",
    "* file for analytics/recommendations\n",
    "\n",
    "We want to group these classes and fucntions inside of a file that makes sense.\n",
    "\n",
    "One of the most common ways to use a module is something like a utlity. Let's say we want to creat a utility module - like a tool belt. \n",
    "Very simple functions that we can use all across our project.\n",
    "Simple example below. "
   ]
  },
  {
   "cell_type": "code",
   "execution_count": null,
   "metadata": {},
   "outputs": [],
   "source": [
    "def multiply(num1, num2):\n",
    "    return num1*nim2\n",
    "\n",
    "def divide(num1, num2):\n",
    "    return num1/num2"
   ]
  },
  {
   "cell_type": "markdown",
   "metadata": {},
   "source": [
    "If the above code is in a `utility.py` file then we can use these functions in a main program file using an import statement. "
   ]
  },
  {
   "cell_type": "code",
   "execution_count": null,
   "metadata": {},
   "outputs": [],
   "source": [
    "import utility"
   ]
  }
 ],
 "metadata": {
  "kernelspec": {
   "display_name": "Python [default]",
   "language": "python",
   "name": "python3"
  },
  "language_info": {
   "codemirror_mode": {
    "name": "ipython",
    "version": 3
   },
   "file_extension": ".py",
   "mimetype": "text/x-python",
   "name": "python",
   "nbconvert_exporter": "python",
   "pygments_lexer": "ipython3",
   "version": "3.6.5"
  }
 },
 "nbformat": 4,
 "nbformat_minor": 2
}
