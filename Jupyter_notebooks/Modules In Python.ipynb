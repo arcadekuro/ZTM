{
 "cells": [
  {
   "cell_type": "markdown",
   "metadata": {},
   "source": [
    "## 164. Modules In Python\n",
    "Up to this point we've learnt about  ways to organise our python code in a file. Our entire code has been so far on one single file. \n",
    "\n",
    "Next we learned about functions to write code that could be used repeatedly - call the functions & over. \n",
    "\n",
    "Classes - blueprints  to create objects from and instatiate ne Python Data types beyond the ones given. Able to box our code up and give each class a certain method and attribute that packages it nicely for us.\n",
    "\n",
    "Functional programming - how unlike OOP, with FP we use a lot of pure functions and we have data that we pass into those functions.\n",
    "\n",
    "All of these things were to keep our code clean, more contained and organised. As we write more lines od "
   ]
  }
 ],
 "metadata": {
  "kernelspec": {
   "display_name": "Python [default]",
   "language": "python",
   "name": "python3"
  },
  "language_info": {
   "codemirror_mode": {
    "name": "ipython",
    "version": 3
   },
   "file_extension": ".py",
   "mimetype": "text/x-python",
   "name": "python",
   "nbconvert_exporter": "python",
   "pygments_lexer": "ipython3",
   "version": "3.6.5"
  }
 },
 "nbformat": 4,
 "nbformat_minor": 2
}
