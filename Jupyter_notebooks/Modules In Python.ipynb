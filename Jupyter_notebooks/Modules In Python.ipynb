{
 "cells": [
  {
   "cell_type": "markdown",
   "metadata": {},
   "source": [
    "## 164. Modules In Python\n",
    "Up to this point we've learnt about  ways to organise our python code in a file. Our entire code has been so far on one single file. \n",
    "\n",
    "Next we learned about functions to write code that could be used repeatedly - call the functions & over. \n",
    "\n",
    "**Classes**- blueprints  to create objects from and instatiate ne Python Data types beyond the ones given. Able to box our code up and give each class a certain method and attribute that packages it nicely for us.\n",
    "\n",
    "***Functional programming** - how unlike OOP, with FP we use a lot of pure functions and we have data that we pass into those functions.\n",
    "\n",
    "All of these things were to keep our code clean, more maintainable, thus making the code more contained and organised. As we write more lines of code it gets harder and harder to keep everything in your head. Other  programmers need an easy way to understand the code. \n",
    "\n",
    "However, we still have a problem, and that problem is that everything is containiend in one file. All the functions, all the classes we've been writing. \n",
    "\n",
    "We have a lot more code and we can't have millions of lines of code in one file. So how do we stay organised? \n",
    "\n",
    "Python files can be linked togehter and it's very common practice. This way of organising code is - module.\n",
    "\n",
    "**Each file, the .py file, is a module.** By builing these modules like we built different functions and different classes inside. \n",
    "\n",
    "When writing modules (filenames) we use the same principles as variables in python which is **snake case**. \n",
    "\n",
    "Divide up our code into chunks that make sense. \n",
    "\n",
    "#### Netflix example\n",
    "* A file dedicated to videos\n",
    "* file for user login\n",
    "* file for analytics/recommendations\n",
    "\n",
    "We want to group these classes and fucntions inside of a file that makes sense.\n",
    "\n",
    "One of the most common ways to use a module is something like a utlity. Let's say we want to creat a utility module - like a tool belt. \n",
    "Very simple functions that we can use all across our project.\n",
    "Simple example below. "
   ]
  },
  {
   "cell_type": "code",
   "execution_count": null,
   "metadata": {},
   "outputs": [],
   "source": [
    "def multiply(num1, num2):\n",
    "    return num1*nim2\n",
    "\n",
    "def divide(num1, num2):\n",
    "    return num1/num2"
   ]
  },
  {
   "cell_type": "markdown",
   "metadata": {},
   "source": [
    "If the above code is in a `utility.py` file then we can use these functions in a main program file using an import statement. "
   ]
  },
  {
   "cell_type": "code",
   "execution_count": null,
   "metadata": {},
   "outputs": [],
   "source": [
    "import utility\n",
    "\n",
    "print(utility)"
   ]
  },
  {
   "cell_type": "markdown",
   "metadata": {},
   "source": [
    "This creates a `__pycache__` folder. This pychace is created everytime we run a file with imports. Anything that main runs will be caached in a `.pyc` file inside the pycache. it ends in pyc because it's using the C python interpreter, so it's actually a compile rile, so the next time run is clicked on the main file, nothing changes. Instead of using utility.py it will load the compiled file - as it is faster. Caching - is remember  something so the compliation step doesn't have to get run again. - Don't touch this file. "
   ]
  },
  {
   "cell_type": "code",
   "execution_count": null,
   "metadata": {},
   "outputs": [],
   "source": [
    "# To access the file functions:\n",
    "    \n",
    "print(utility.multiply(7, 8))\n"
   ]
  },
  {
   "cell_type": "markdown",
   "metadata": {},
   "source": [
    "You can import as many times as you would like. By using the import modules we can use functionality between different files. Mot of the time when working at company the first couple of lines on a .py file are usually import statements. "
   ]
  },
  {
   "cell_type": "markdown",
   "metadata": {},
   "source": [
    "## 165. Packages. \n",
    "What if our project is getting even bigger. We have the main file and some utility, but now we're working for Microsoft for example, and there is a new shopping functionality - entire shopping area to buy microsoft t-shits. Well we can create a folder, with a new file. \n",
    "\n",
    "->cwd\n",
    "|\n",
    " ---> _pychace_ \n",
    "|\n",
    " ---> shopping\n",
    "  |\n",
    "   --->shopping_cart.py\n",
    "   \n",
    " \n",
    " what we've created in the associated github"
   ]
  }
 ],
 "metadata": {
  "kernelspec": {
   "display_name": "Python [default]",
   "language": "python",
   "name": "python3"
  },
  "language_info": {
   "codemirror_mode": {
    "name": "ipython",
    "version": 3
   },
   "file_extension": ".py",
   "mimetype": "text/x-python",
   "name": "python",
   "nbconvert_exporter": "python",
   "pygments_lexer": "ipython3",
   "version": "3.6.5"
  }
 },
 "nbformat": 4,
 "nbformat_minor": 2
}
