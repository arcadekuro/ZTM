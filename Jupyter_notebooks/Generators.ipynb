{
 "cells": [
  {
   "cell_type": "markdown",
   "metadata": {},
   "source": [
    "## 157. Generators\n",
    "A important key torm and advanced topi. Generators are available in Python and allows us to generate a sequence of values over time. \n",
    "\n",
    "What does this mean? Well we've learned about generators before. `range` is a generator - a special thing in python that allows us to use a special keyword called yield. It can pause and resume functions. "
   ]
  },
  {
   "cell_type": "code",
   "execution_count": 2,
   "metadata": {},
   "outputs": [
    {
     "name": "stdout",
     "output_type": "stream",
     "text": [
      "[0, 2, 4, 6, 8, 10, 12, 14, 16, 18, 20, 22, 24, 26, 28, 30, 32, 34, 36, 38, 40, 42, 44, 46, 48, 50, 52, 54, 56, 58, 60, 62, 64, 66, 68, 70, 72, 74, 76, 78, 80, 82, 84, 86, 88, 90, 92, 94, 96, 98, 100, 102, 104, 106, 108, 110, 112, 114, 116, 118, 120, 122, 124, 126, 128, 130, 132, 134, 136, 138, 140, 142, 144, 146, 148, 150, 152, 154, 156, 158, 160, 162, 164, 166, 168, 170, 172, 174, 176, 178, 180, 182, 184, 186, 188, 190, 192, 194, 196, 198]\n"
     ]
    }
   ],
   "source": [
    "\"\"\"A list will create a giant list of 100 items in our computers memory.\n",
    "Wherease a range will create them one by one. \n",
    "\"\"\"\n",
    "\n",
    "range(100)\n",
    "list(range(100))\n",
    "\n",
    "def make_list(num):\n",
    "    result = []\n",
    "    for i in range(num):\n",
    "        result.append(i*2)\n",
    "    return result\n",
    "\n",
    "\"\"\"when we make a list, we're  doing the same as the above function.\n",
    "using range to create a list & return a result that will live in memory.\n",
    "\"\"\" \n",
    "\n",
    "my_list = make_list(100)\n",
    "print(my_list)"
   ]
  },
  {
   "cell_type": "markdown",
   "metadata": {},
   "source": [
    "The lis above is pointing to a location in memory. So this is taking up space right now. \n",
    "\n",
    "Range is a generator which is a little bit different because it is not being held in memory. \n",
    "\n",
    "When we call the for loop, the range does not create on its own a giant list of let's say 0 to ninety then start iterating. Its gives each number on it's own. It never ever creates a list. \n",
    "\n",
    "For lists you can only act on it or use it once the interpreter has finished creating it.\n",
    "\n",
    "A more efficient way is to use a generator and actually generate these one at a time without taking space in memory. \n",
    "\n"
   ]
  },
  {
   "cell_type": "markdown",
   "metadata": {},
   "source": [
    "## Generators 2\n",
    "\n",
    "Remember that a list is an iterable. Well what in an iterable? - Any object in python which we're able to loop through.\n",
    "\n",
    "Underneath the hood it has the dunder `__iter__` method. So when the object is created this iter allows us to have a ball object that can be iterated over.\n",
    "\n",
    "To iterate something or iteration, is the act of taking an item from an iterable, doing something to it and then going to the next one when we use for or while loops. \n",
    "\n",
    "When we use loops thats what we call iteration - the process itself.\n",
    "\n",
    "Generators are actually iterable. Everything that is a generator can be iterable. But not everything that is itterable is a generator.\n",
    "\n",
    "* A range is a generator - it will always be iterable\n",
    "* A list is not a generator but it IS an iterable.\n",
    "\n",
    "So a generator is a subset of an iterable. \n",
    "The difference between a generator and a regular iterable is the way we implement them. \n",
    "\n",
    "Generators are usually functions just like range is a function. \n",
    "A way to create a generator:"
   ]
  },
  {
   "cell_type": "code",
   "execution_count": 3,
   "metadata": {},
   "outputs": [
    {
     "name": "stdout",
     "output_type": "stream",
     "text": [
      "0\n",
      "1\n",
      "2\n",
      "3\n",
      "4\n",
      "5\n",
      "6\n",
      "7\n",
      "8\n",
      "9\n"
     ]
    }
   ],
   "source": [
    "#creating a generator\n",
    "\n",
    "def generator_function(num):\n",
    "    for i in range(num):\n",
    "        yield i \n",
    "       \n",
    "\"\"\"\n",
    "Yield pauses the function and comes back to it when we do \n",
    "something to it called 'next'. It gives i.\n",
    "\n",
    "Below we're looping generator function.\n",
    "\"\"\"\n",
    "        \n",
    "for item in generator_function(10):\n",
    "    print(item)\n"
   ]
  },
  {
   "cell_type": "markdown",
   "metadata": {},
   "source": [
    "Instead of having to create that list in memory it just kept going one by one. We only held one item and we used it however we wanted to. In our case we only used it to print item. \n",
    "\n",
    "So what does the yeild keyword actually do?"
   ]
  },
  {
   "cell_type": "code",
   "execution_count": 8,
   "metadata": {},
   "outputs": [
    {
     "name": "stdout",
     "output_type": "stream",
     "text": [
      "<generator object generator_func at 0x103727eb8>\n",
      "6\n"
     ]
    }
   ],
   "source": [
    "\n",
    "def generator_func(num):\n",
    "    for i in range(num):\n",
    "        yield i*2\n",
    "\n",
    "\n",
    "g = generator_func(100)\n",
    "print(g)\n",
    "next(g)\n",
    "next(g)\n",
    "next(g)\n",
    "print(next(g))"
   ]
  },
  {
   "cell_type": "markdown",
   "metadata": {},
   "source": [
    "This yield key word give us some power, more than a return statement would give. \n",
    "\n",
    "if you put `next(g)` it iterates through.\n",
    "The first time you run the function, there will be the output 0 (0 * 2).\n",
    "Yield pausese the function and comes back to it when `next` is called. \n",
    "If it has a `yield` keyword then the function beceomes a generator and keeps track of this state - what call the value - and it only keeps the most recent data in memory. The function remembers the previous number and iterates to the next. \n",
    "\n",
    "next can be called as many times as we want until the range expires, and we exceed the number of items in the range. For instance passing 1 as a argument in the function will result in an error - StopIteration.\n",
    "\n",
    "When we use `for` loops with ranges it actually detects this underneath the hood for you. "
   ]
  },
  {
   "cell_type": "markdown",
   "metadata": {},
   "source": [
    "# 159. Generators performance\n"
   ]
  },
  {
   "cell_type": "code",
   "execution_count": 19,
   "metadata": {},
   "outputs": [
    {
     "name": "stdout",
     "output_type": "stream",
     "text": [
      "1\n",
      "function took 0.0011649131774902344 s\n",
      "2\n",
      "function took 0.00014090538024902344 s\n"
     ]
    }
   ],
   "source": [
    "# previous creation of the performance decorator\n",
    "\n",
    "from time import time\n",
    "\n",
    "def performance2(fn):\n",
    "    def wrapper(*args, **kwargs):\n",
    "        t1 = time()\n",
    "        result = fn(*args, **kwargs)\n",
    "        t2 = time()\n",
    "        print(f'function took {t2-t1} s')\n",
    "        return result\n",
    "    return wrapper\n",
    "\n",
    "# Using this performance decorator there are two functions below\n",
    "# 1st uses a range, 2nd uses range converted into a list \n",
    "\n",
    "@performance2\n",
    "def long_time():\n",
    "    print('1')\n",
    "    for i in range(100):\n",
    "        i*5\n",
    "\n",
    "@performance2\n",
    "def long_time2():\n",
    "    print('2')\n",
    "    for i in list(range(100)):\n",
    "        i*5\n",
    "    \n",
    "long_time()\n",
    "long_time2()"
   ]
  },
  {
   "cell_type": "markdown",
   "metadata": {},
   "source": [
    "The first function took a long amount of time. think about this as if you were google, if you can performe a task that much faster and use less resources, it would be great. With generators we can process data efficiently by not holding data in memory.  Loops are really useful when calculating large sets of data particularly if we're using long loops where we don't want to store that memory & not calculate things at the same time.\n",
    "\n",
    "A lot of libraries use generators underneath the hood. To recap. \n",
    "1. greate a generator function\n",
    "2. within the function,  loop over some value given to a range\n",
    "3. Simply yield that result\n",
    "4. Do whatever we want in  the code block and then paused "
   ]
  },
  {
   "cell_type": "markdown",
   "metadata": {},
   "source": [
    "## 160. Generators under the hood.\n",
    "How do things work underneath the hood?\n",
    "\n",
    "* recieving an iterable\n",
    "* for us to have an iterable we have an iter function that accepts the iterable we passed.\n",
    "* The iter function is going to allow us to use the next function on this iterable.\n",
    "\n"
   ]
  },
  {
   "cell_type": "code",
   "execution_count": 22,
   "metadata": {},
   "outputs": [
    {
     "name": "stdout",
     "output_type": "stream",
     "text": [
      "<list_iterator object at 0x10378ed30>\n",
      "1\n",
      "<list_iterator object at 0x10378ed30>\n",
      "2\n",
      "<list_iterator object at 0x10378ed30>\n",
      "3\n",
      "<list_iterator object at 0x10378ed30>\n"
     ]
    }
   ],
   "source": [
    "def special_for(iterable):\n",
    "    iterator = iter(iterable)\n",
    "    while  True:\n",
    "        try:\n",
    "            print(iterator)\n",
    "            print(next(iterator))\n",
    "        except StopIteration:\n",
    "            break\n",
    "\n",
    "\n",
    "special_for([1,2,3])"
   ]
  },
  {
   "cell_type": "markdown",
   "metadata": {},
   "source": [
    "Above we loop through some iterable objects using next and you see that this object exists in the same memory space even through we're constantly looping through it. \n",
    "\n",
    "Now we'll create our own special data type/special range.\n",
    "Iter allows us to create an iterable. "
   ]
  },
  {
   "cell_type": "code",
   "execution_count": 2,
   "metadata": {},
   "outputs": [
    {
     "name": "stdout",
     "output_type": "stream",
     "text": [
      "0\n",
      "1\n",
      "2\n",
      "3\n",
      "4\n",
      "5\n",
      "6\n",
      "7\n",
      "8\n",
      "9\n"
     ]
    }
   ],
   "source": [
    "class MyGen():  # Using a class here because we're creating out own data type. \n",
    "    current = 0\n",
    "    def __init__(self, first, last):\n",
    "        self.first = first\n",
    "        self.last = last\n",
    "    \n",
    "    def __iter__(self):\n",
    "        return self\n",
    "    \n",
    "    def __next__(self):\n",
    "        if MyGen.current < self.last:\n",
    "            num = MyGen.current\n",
    "            MyGen.current +=1\n",
    "            return num\n",
    "        raise StopIteration\n",
    "        \n",
    "gen = MyGen(0,10)\n",
    "for i in gen: \n",
    "    print(i)"
   ]
  },
  {
   "cell_type": "markdown",
   "metadata": {},
   "source": [
    "**under the  hood:**\n",
    "increment our current location by 1 & then return the number which is 0 in the first instance. Keep going until current is num is bigger than last. In this case we would simply going to till we raise a stop iteration because there are no more things to iterate over.\n",
    "\n",
    "All we did was:\n",
    "1. give an init function with first & last attributes\n",
    "2. Iterate through the object we created using a dunder iter\n",
    "3. Use the next function of a generator using the dunder method, this is needed in a loop.\n",
    "\n",
    "Able to use the next value it because we loop and constantly increase by 1 until we keep returning the number. \n",
    "\n",
    "Basically we're creating our own range class which allow us to have objects that can be looped over using a for loop.\n",
    "\n",
    "You're not going to be asked to use this in your day to day but it is important to know how this works"
   ]
  },
  {
   "cell_type": "markdown",
   "metadata": {},
   "source": [
    "## 162. Exercise: Fibonacci Numbers\n",
    "This is a famous exercise that comes up often in interview numbers. Implementing Fibonanic numbers. \n",
    "It works by starting with 0 and 1 then each pair of numbers is added to make the next number in the sequence. This grows exponentially - really high and fast. This shows up quite a lot in nature. \n",
    "\n",
    "It's also an interesting problem, those numbers at the beginning grow really really slow but become larger, which can be a drain on reources if we keep allocating memory.This can hog up resources. \n",
    "\n",
    "return all these numbers using generators until we get to this location. "
   ]
  },
  {
   "cell_type": "code",
   "execution_count": 11,
   "metadata": {},
   "outputs": [
    {
     "name": "stdout",
     "output_type": "stream",
     "text": [
      "0\n",
      "1\n",
      "1\n",
      "2\n",
      "3\n",
      "5\n",
      "8\n",
      "13\n",
      "21\n",
      "34\n",
      "55\n",
      "89\n",
      "144\n",
      "233\n",
      "377\n",
      "610\n",
      "987\n",
      "1597\n",
      "2584\n",
      "4181\n",
      "6765\n"
     ]
    }
   ],
   "source": [
    "# To do this using a generator\n",
    "def fib(num):\n",
    "    # index number of the fibonaccic, a + b start of numbers\n",
    "    a = 0 \n",
    "    b = 1\n",
    "    for i in range(num):\n",
    "        yield a\n",
    "        temp = a\n",
    "        a, b = b, temp + b\n",
    "\n",
    "\n",
    "for x in fib(21):\n",
    "    print(x)"
   ]
  },
  {
   "cell_type": "code",
   "execution_count": 14,
   "metadata": {},
   "outputs": [
    {
     "name": "stdout",
     "output_type": "stream",
     "text": [
      "[0, 1, 1, 2, 3, 5, 8, 13, 21, 34, 55, 89, 144, 233, 377, 610, 987, 1597, 2584, 4181]\n"
     ]
    }
   ],
   "source": [
    "# To do tis using a List\n",
    "def fib2(num):\n",
    "    # index number of the fibonaccic, a + b start of numbers\n",
    "    a = 0 \n",
    "    b = 1\n",
    "    result = []\n",
    "    for i in range(num):\n",
    "        result.append(a)\n",
    "        temp = a\n",
    "        a, b = b, temp + b\n",
    "    return result\n",
    "\n",
    "print(fib2(20))"
   ]
  },
  {
   "cell_type": "code",
   "execution_count": null,
   "metadata": {},
   "outputs": [],
   "source": []
  }
 ],
 "metadata": {
  "kernelspec": {
   "display_name": "Python [default]",
   "language": "python",
   "name": "python3"
  },
  "language_info": {
   "codemirror_mode": {
    "name": "ipython",
    "version": 3
   },
   "file_extension": ".py",
   "mimetype": "text/x-python",
   "name": "python",
   "nbconvert_exporter": "python",
   "pygments_lexer": "ipython3",
   "version": "3.6.5"
  }
 },
 "nbformat": 4,
 "nbformat_minor": 2
}
