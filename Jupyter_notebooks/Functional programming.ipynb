{
 "cells": [
  {
   "cell_type": "markdown",
   "metadata": {
    "nbpresent": {
     "id": "800a358c-60fc-4010-b849-2b269c9e58f4"
    }
   },
   "source": [
    "## 132. Functional Programming\n",
    "[history of functional programming](https://en.wikipedia.org/wiki/History_of_programming_languages)\n",
    "\n",
    "We moved from just writing lines of code to something that was more object focused to organise code. \n",
    "Around the same time as **small talk** there was the concept of functional programming paradaigm. \n",
    "\n",
    "**N.B. Remember a paradigm is a way for us to think about and organise our code. **\n",
    "\n",
    "It's good to understand both OOP & Functional programming to see what pros/cons there are and tradeoffs. \n"
   ]
  },
  {
   "cell_type": "markdown",
   "metadata": {
    "nbpresent": {
     "id": "13ec0f70-8ffb-46f3-953b-e272c78e4f79"
    }
   },
   "source": [
    "## 133. What is Functional programming?\n",
    "\n",
    "All about seperation of concerns, which OOP does as well - seperating parts of our code into pacakages and each part is organised in a way that makes sense based on functionality. \n",
    "\n",
    "This means each part concerns itself with something that it's good at. Previously in OOP we used classes to divide up different player types. Functional programming has this idea as well of seperating concerns but they also seperate data and functions. \n",
    "\n",
    "Instead of combining methods and attribute, we seperate them because they are two seperate things. There's data and this data gets interacted and acted upon. Generally functional programming languages have an emphasis on simplicity where data and functions are concerned because in most functional programming paradigms, we don't have this idea of classes and functions. Instead functions operate on well-defined data structures like lists and dictionaries rather than belonging that data structure to an object. \n",
    "\n",
    "At the end of the day however, the goal of a functional programming paradigm is the same as OOP. The idea of making our code clean and understandable, easy to extend(we can grow our cod) and make it better. Easy to maintain. Keeps the code dry so we are not repeating ourselves as well as keeping our code memory efficient because we're not storing information all over the place. \n",
    "\n",
    "1. Clear & Understandable\n",
    "2. Easy to extend \n",
    "3. Easy to maintain\n",
    "4. Memory efficient \n",
    "5. DRY\n",
    "\n",
    "In functional programming there is one very important pillar. If you want to break things down in functional programming it all comes down to this concept of **pure functions**. \n",
    "\n",
    "Pure functions is the idea that there is a seperation betweene data of a program and the behaviour of a program. "
   ]
  },
  {
   "cell_type": "markdown",
   "metadata": {
    "nbpresent": {
     "id": "009e890b-de39-4c2f-9698-e4751bdc5cc4"
    }
   },
   "source": [
    "## 134. Pure Functions\n",
    "Every time an input is given to an input it should result in the same output. A pure function has two rules:\n",
    "1. Given the same input it will always return the same output. \n",
    "2. The idea of a function should not produce any side effects. \n",
    "\n",
    "Side effects are things that a function does that may affects the outsider world (e.g. the screen or touch a variable that might be touching the outside scope). "
   ]
  },
  {
   "cell_type": "code",
   "execution_count": 3,
   "metadata": {
    "nbpresent": {
     "id": "f7f6d288-0e7b-4770-8e78-ff4c311e2857"
    }
   },
   "outputs": [
    {
     "data": {
      "text/plain": [
       "[2, 4, 6]"
      ]
     },
     "execution_count": 3,
     "metadata": {},
     "output_type": "execute_result"
    }
   ],
   "source": [
    "def multiply_by2(li):\n",
    "    new_list = []\n",
    "    for item in li:\n",
    "        new_list.append(item*2)\n",
    "    return new_list\n",
    "\n",
    "multiply_by2([1, 2, 3])"
   ]
  },
  {
   "cell_type": "markdown",
   "metadata": {
    "nbpresent": {
     "id": "950fe2fe-7354-46ae-ae40-d907fe4a32bc"
    }
   },
   "source": [
    "Is this a pure function? well lets look at the two tests:\n",
    "1. It does give  the same output\n",
    "2. It doesn't touch anything in the outside world\n",
    "\n",
    "However it does have side effects, if we were to add a print statement to the return. We give control to peint but we don't know what print is going to do. Here: is another example:\n"
   ]
  },
  {
   "cell_type": "code",
   "execution_count": 4,
   "metadata": {
    "nbpresent": {
     "id": "fe7e49f3-e78e-41f5-a4b1-29738e30b976"
    }
   },
   "outputs": [],
   "source": [
    "new_list = []\n",
    "def multiply_by2(li):\n",
    "    for item in li:\n",
    "        new_list.append(item*2)\n",
    "    return new_list \n"
   ]
  },
  {
   "cell_type": "markdown",
   "metadata": {
    "nbpresent": {
     "id": "6f8fd302-e8f1-4b04-b7f4-8bdbbbab7ad6"
    }
   },
   "source": [
    "This does interact with the outside world because the outside the scope of the function, with the global variable `new_list`. It appends to this new list. So if a programmer comes along and decides to change the new_list to an empty string then there will be an error. The new list that lives in the outside world of this function can be modified by another developer or by a program and we wouldn't know about it till we run the code. It has a **side effect** so ideally we contain our functions and make them pure because as you can see we're never going to have a bug or error in our code unless we wrote something wrong. \n",
    "\n",
    "When you have pure functions you have less buggy code, you can test code better and it's easier to test your code, benefits of your code touching each other and affecting each other - makes your life as a programmer so much easier. \n",
    "\n",
    "This idea of pure functions are important - pure functions is more of a guideline than an absolute. It is impossible to have pure functions everyweher because if a function doesn't affect the outside world at all then we wouldn't have any programs, we wouldn't be able to display thins, or save things. \n",
    "\n",
    "When you can, whevever you can try to create pure functions and only have few non pure functions that interact with the outside world that we can go back to whenever we have bugs in our code. "
   ]
  },
  {
   "cell_type": "code",
   "execution_count": null,
   "metadata": {
    "nbpresent": {
     "id": "018bd5a6-d23c-40fc-868b-1693132c8e07"
    }
   },
   "outputs": [],
   "source": [
    "wizard = {\n",
    "    'name': 'merlin',\n",
    "    'attack': 50\n",
    "}\n",
    "\n",
    "def attack(char):\n",
    "    pass"
   ]
  },
  {
   "cell_type": "markdown",
   "metadata": {
    "nbpresent": {
     "id": "9589ec6d-dcbd-4d80-b0ab-57db4fe92232"
    }
   },
   "source": [
    "To go back to our wizard game from the previous lesson, we would have a wizard object or dictionary that had the name merlin and power of 50.\n",
    "Instead of containing these in a class we would have different methods such as attack, but as a function. In functional programming there isn't the combining of classes or attributes only pure functions that can be passed anything. In order to focus on pure functions and data. - avoids bugs & keeps code clean"
   ]
  },
  {
   "cell_type": "markdown",
   "metadata": {
    "nbpresent": {
     "id": "23592533-4df4-4207-85d5-c5115935d4eb"
    }
   },
   "source": [
    "## 135. map ( )\n",
    "There are some useful function available in python  that allow us to think in a functional programming paradigm.\n",
    "The name off these functions are:\n",
    "* map\n",
    "* filter\n",
    "* zip\n",
    "* reduce\n",
    "\n",
    "This are commong and very useful functions that you will write a lot in python programming. \n",
    "\n",
    "Map function takes a certain action & the data we want to act upon"
   ]
  },
  {
   "cell_type": "code",
   "execution_count": 5,
   "metadata": {
    "nbpresent": {
     "id": "e3816d6f-85ff-410f-b72e-cfcc51b3c860"
    }
   },
   "outputs": [
    {
     "name": "stdout",
     "output_type": "stream",
     "text": [
      "<map object at 0x10562dcd0>\n"
     ]
    }
   ],
   "source": [
    "# Map allows us to simplify code. give the first parameter:\n",
    "# A function, 2nd parameter is an iterable. \n",
    "\n",
    "print(map(multiply_by2, [1, 2, 3]))"
   ]
  },
  {
   "cell_type": "markdown",
   "metadata": {
    "nbpresent": {
     "id": "82afc107-db52-4c9a-a8f7-170b28fa4247"
    }
   },
   "source": [
    "Map automatically gives us an object that it has created in this memory. In order to actually view it, we need to turn it into a liat"
   ]
  },
  {
   "cell_type": "code",
   "execution_count": 7,
   "metadata": {
    "nbpresent": {
     "id": "fc1f03aa-0264-4503-976e-5e1b587e96a0"
    }
   },
   "outputs": [
    {
     "ename": "TypeError",
     "evalue": "'int' object is not iterable",
     "output_type": "error",
     "traceback": [
      "\u001b[0;31m---------------------------------------------------------------------------\u001b[0m",
      "\u001b[0;31mTypeError\u001b[0m                                 Traceback (most recent call last)",
      "\u001b[0;32m<ipython-input-7-833d6a4516b2>\u001b[0m in \u001b[0;36m<module>\u001b[0;34m\u001b[0m\n\u001b[0;32m----> 1\u001b[0;31m \u001b[0mprint\u001b[0m\u001b[0;34m(\u001b[0m\u001b[0mlist\u001b[0m\u001b[0;34m(\u001b[0m\u001b[0mmap\u001b[0m\u001b[0;34m(\u001b[0m\u001b[0mmultiply_by2\u001b[0m\u001b[0;34m,\u001b[0m \u001b[0;34m[\u001b[0m\u001b[0;36m1\u001b[0m\u001b[0;34m,\u001b[0m\u001b[0;36m2\u001b[0m\u001b[0;34m,\u001b[0m\u001b[0;36m3\u001b[0m\u001b[0;34m]\u001b[0m\u001b[0;34m)\u001b[0m\u001b[0;34m)\u001b[0m\u001b[0;34m)\u001b[0m\u001b[0;34m\u001b[0m\u001b[0;34m\u001b[0m\u001b[0m\n\u001b[0m",
      "\u001b[0;32m<ipython-input-4-9a3813c6111a>\u001b[0m in \u001b[0;36mmultiply_by2\u001b[0;34m(li)\u001b[0m\n\u001b[1;32m      1\u001b[0m \u001b[0mnew_list\u001b[0m \u001b[0;34m=\u001b[0m \u001b[0;34m[\u001b[0m\u001b[0;34m]\u001b[0m\u001b[0;34m\u001b[0m\u001b[0;34m\u001b[0m\u001b[0m\n\u001b[1;32m      2\u001b[0m \u001b[0;32mdef\u001b[0m \u001b[0mmultiply_by2\u001b[0m\u001b[0;34m(\u001b[0m\u001b[0mli\u001b[0m\u001b[0;34m)\u001b[0m\u001b[0;34m:\u001b[0m\u001b[0;34m\u001b[0m\u001b[0;34m\u001b[0m\u001b[0m\n\u001b[0;32m----> 3\u001b[0;31m     \u001b[0;32mfor\u001b[0m \u001b[0mitem\u001b[0m \u001b[0;32min\u001b[0m \u001b[0mli\u001b[0m\u001b[0;34m:\u001b[0m\u001b[0;34m\u001b[0m\u001b[0;34m\u001b[0m\u001b[0m\n\u001b[0m\u001b[1;32m      4\u001b[0m         \u001b[0mnew_list\u001b[0m\u001b[0;34m.\u001b[0m\u001b[0mappend\u001b[0m\u001b[0;34m(\u001b[0m\u001b[0mitem\u001b[0m\u001b[0;34m*\u001b[0m\u001b[0;36m2\u001b[0m\u001b[0;34m)\u001b[0m\u001b[0;34m\u001b[0m\u001b[0;34m\u001b[0m\u001b[0m\n\u001b[1;32m      5\u001b[0m     \u001b[0;32mreturn\u001b[0m \u001b[0mnew_list\u001b[0m\u001b[0;34m\u001b[0m\u001b[0;34m\u001b[0m\u001b[0m\n",
      "\u001b[0;31mTypeError\u001b[0m: 'int' object is not iterable"
     ]
    }
   ],
   "source": [
    "print(list(map(multiply_by2, [1,2,3])))"
   ]
  },
  {
   "cell_type": "markdown",
   "metadata": {
    "nbpresent": {
     "id": "6ab29dc9-bbc7-4ee3-857e-40b207dd4ebc"
    }
   },
   "source": [
    "There is an error because with map we no longer need to do this creation of a list then appending to a new list. You can give map some data and then this data gets acted up by the action.  All we need to do with the map function, is to have a function that returns the items*2\n"
   ]
  },
  {
   "cell_type": "code",
   "execution_count": 8,
   "metadata": {
    "nbpresent": {
     "id": "c44e7057-c2bb-471a-85f9-5a6587e4cfc4"
    }
   },
   "outputs": [
    {
     "name": "stdout",
     "output_type": "stream",
     "text": [
      "[2, 4, 6]\n"
     ]
    }
   ],
   "source": [
    "def multiply_by_2(item):\n",
    "    return item*2 \n",
    "\n",
    "print(list(map(multiply_by_2, [1,2,3])))"
   ]
  },
  {
   "cell_type": "markdown",
   "metadata": {
    "nbpresent": {
     "id": "aa3486a0-57cf-4047-a22e-038d67a8d136"
    }
   },
   "source": [
    "Notice there are no brackets for the function, because map calls the function for us. It calls the function at it's object address and uses it on the specifified data \n",
    "\n",
    "We have data that gets acted upon - seperate the two out. \n",
    "\n",
    "This function takes each one of the items in out iteralbles, and then all we need to do is write a return for what function we want to take on the item.\n",
    "\n",
    "So by doing this map automatically runs the function for us and  loops through all the items. \n",
    "**The data has to be iterable.*** - cannot be a single number"
   ]
  },
  {
   "cell_type": "code",
   "execution_count": 12,
   "metadata": {
    "nbpresent": {
     "id": "0a19f477-8116-4cbb-a075-459e60682e3b"
    }
   },
   "outputs": [
    {
     "name": "stdout",
     "output_type": "stream",
     "text": [
      "[2, 4, 6]\n",
      "[1, 2, 3]\n"
     ]
    }
   ],
   "source": [
    "my_list = [1, 2, 3]\n",
    "print(list(map(multiply_by_2, my_list)))\n",
    "print(my_list)"
   ]
  },
  {
   "cell_type": "markdown",
   "metadata": {
    "nbpresent": {
     "id": "a1749ad8-041a-4ce0-b6ed-9e9ba1b9306b"
    }
   },
   "source": [
    "The function does not  anything from the outside world. A new object is created. \n",
    "Map  is extrememly useful because anytime we have something that we can iterate over and we want to change. Another example is:"
   ]
  },
  {
   "cell_type": "code",
   "execution_count": 9,
   "metadata": {
    "nbpresent": {
     "id": "431d29fe-6898-45ac-bd7f-62ee79ec5813"
    }
   },
   "outputs": [
    {
     "name": "stdout",
     "output_type": "stream",
     "text": [
      "['ul@gmail.com', 'u2@gmail.com']\n"
     ]
    }
   ],
   "source": [
    "emails = ['UL@GMAIL.COM', 'U2@gMaiL.com']\n",
    "def lowercase(item):\n",
    "    return item.lower()\n",
    "\n",
    "print(list(map(lowercase, emails)))"
   ]
  },
  {
   "cell_type": "markdown",
   "metadata": {
    "nbpresent": {
     "id": "240879db-d1c4-443f-94c1-89eeb8dde84a"
    }
   },
   "source": [
    "Map will be the a very useful and frequently used function in your programming journey. "
   ]
  },
  {
   "cell_type": "markdown",
   "metadata": {
    "nbpresent": {
     "id": "4c0578f8-1d48-4f5e-a34a-f14c9952d0e5"
    }
   },
   "source": [
    "## 136. Filter( )\n",
    "This function filters things for us. With map we always got the same number of items back. With filter we cap sometimes recieve less than what we gave it. we are filtering some of our results. "
   ]
  },
  {
   "cell_type": "code",
   "execution_count": 10,
   "metadata": {
    "nbpresent": {
     "id": "3fa0f45b-8deb-4a18-ab30-db8f08faa257"
    }
   },
   "outputs": [],
   "source": [
    "def check_odd(item):\n",
    "    return item % 2 != 0   # will evalate to boolean expression"
   ]
  },
  {
   "cell_type": "markdown",
   "metadata": {
    "nbpresent": {
     "id": "f5e5c003-17cb-4dac-b4de-475c82777e70"
    }
   },
   "source": [
    "Based on the boolean expression, if true then it will be kept on  the list. "
   ]
  },
  {
   "cell_type": "code",
   "execution_count": 13,
   "metadata": {
    "nbpresent": {
     "id": "e1f8c025-0fe6-4f9a-8e21-de0f19bbd13e"
    }
   },
   "outputs": [
    {
     "name": "stdout",
     "output_type": "stream",
     "text": [
      "[1, 3]\n"
     ]
    }
   ],
   "source": [
    "print(list(filter(check_odd, my_list)))\n"
   ]
  },
  {
   "cell_type": "markdown",
   "metadata": {
    "nbpresent": {
     "id": "09fee5aa-8cd3-4385-a742-6fd64f8a062b"
    }
   },
   "source": [
    "## 137. Zip ( ) \n",
    "\n",
    "It works like a zipper. \n",
    "Need two lists or iterables & we can zip them together. "
   ]
  },
  {
   "cell_type": "code",
   "execution_count": 14,
   "metadata": {
    "nbpresent": {
     "id": "ec8788b9-9fc4-44c1-96f9-1b4e62026ff7"
    }
   },
   "outputs": [
    {
     "name": "stdout",
     "output_type": "stream",
     "text": [
      "[(1, 10), (2, 20), (3, 30)]\n"
     ]
    }
   ],
   "source": [
    "list1 = [1, 2, 3]\n",
    "list2 = [10, 20, 30] \n",
    "\n",
    "print(list(zip(list1, list2)))\n"
   ]
  },
  {
   "cell_type": "markdown",
   "metadata": {
    "nbpresent": {
     "id": "820273a3-4d4c-411a-84fb-12504dea2808"
    }
   },
   "source": [
    "Zip like a zipper, takes  the two iterables and grabs the first item from each to zip them together like a zipper into a tupple. \n",
    "\n",
    "This is a very important function because it's so generic it can be used in so many different ways. \n",
    "\n",
    "For example if we had information from one database and we collected all the user names from one column in a databse and then another part we collect all of the phone numbers & they were all in the same order then we can combine these into a tuple using zip that has the user name and the phone numbers "
   ]
  },
  {
   "cell_type": "code",
   "execution_count": 15,
   "metadata": {
    "nbpresent": {
     "id": "6ea72b3c-0187-4591-acfe-771d0479fdbc"
    }
   },
   "outputs": [
    {
     "name": "stdout",
     "output_type": "stream",
     "text": [
      "[(1, 10, 5), (2, 20, 4), (3, 30, 3)]\n"
     ]
    }
   ],
   "source": [
    "list3 = (5, 4, 3)\n",
    "print(list(zip(list1, list2, list3)))"
   ]
  },
  {
   "cell_type": "markdown",
   "metadata": {
    "nbpresent": {
     "id": "6d6e2715-7839-4e39-9ee2-39b4b7495496"
    }
   },
   "source": [
    "Zip iterates over each of these data structures and zips them together. "
   ]
  },
  {
   "cell_type": "markdown",
   "metadata": {
    "nbpresent": {
     "id": "78809518-b2f3-443e-b153-f66bd79e89b3"
    }
   },
   "source": [
    "## 138. Reduce ( ) \n",
    "A bit more advanced. \n",
    "Reduce doesn't come as part of the python  built in function. In order for us to use reduce, we have to use an import statement.\n",
    "\n",
    "Functools are a toolbelt that we can use for functional tools that comes from the python installation. \n",
    "\n",
    "we neeed a function as a first input. \n",
    "\n",
    "The reduce function allows us to do something interesting. \n",
    "\n",
    "Reduce is going to be in charge of giving the two parameters from the data we give it."
   ]
  },
  {
   "cell_type": "code",
   "execution_count": 31,
   "metadata": {
    "nbpresent": {
     "id": "fcbe32af-9abd-4732-a0f8-3c1f4be421c9"
    }
   },
   "outputs": [
    {
     "name": "stdout",
     "output_type": "stream",
     "text": [
      "0 1\n",
      "1 2\n",
      "3 3\n",
      "6\n"
     ]
    }
   ],
   "source": [
    "from functools import reduce \n",
    "\n",
    "#The first item from my list will be the second parameter\n",
    "def accumulator(acc, item):\n",
    "    print(acc, item)\n",
    "    return acc + item \n",
    "\n",
    "#initial is the accumulator \n",
    "print(reduce(accumulator, my_list, 0))"
   ]
  },
  {
   "cell_type": "markdown",
   "metadata": {
    "nbpresent": {
     "id": "c0885761-d024-4185-aa73-d89eb2113aa9"
    }
   },
   "source": [
    "Reduce allows us to reduce some sort of value from the iterable we give it. \n",
    "\n",
    "We have `my_list` and my list is going to be applied to accumulator. The accumulator is going to be 0 and item will be 1 (first number in my list). Now we have return 1. \n",
    "\n",
    "The second time the accumulator will be the number 1 added to the second item in the list (2) and so on and so forth. \n",
    "\n",
    "We've accumulated all the values and returns one single number 6. We've reduced our list into some data that we've manipulated using the accumulator function.\n",
    "\n",
    "You can do a lot of thing with reduce, functions like map and filter are using the reduce function underneath the hood. So you can actually build your own map and filter function using reduce. \n",
    "Advanced programmers love this feature."
   ]
  },
  {
   "cell_type": "markdown",
   "metadata": {
    "nbpresent": {
     "id": "acfac547-386c-4c6e-a6a9-f8b0887820ce"
    }
   },
   "source": [
    "## 139. Practice \n"
   ]
  },
  {
   "cell_type": "code",
   "execution_count": 32,
   "metadata": {
    "nbpresent": {
     "id": "1c2aa9e4-22f6-4f3d-8eab-1b16c9e14cc7"
    }
   },
   "outputs": [
    {
     "name": "stdout",
     "output_type": "stream",
     "text": [
      "['Sisi', 'Bibi', 'Titi', 'Carla']\n",
      "[('a', 1), ('b', 2), ('c', 3), ('d', 4), ('e', 5)]\n",
      "[73, 65, 76, 100, 88]\n",
      "456\n"
     ]
    }
   ],
   "source": [
    "from functools import reduce\n",
    "\n",
    "#1 Capitalize all of the pet names and print the list\n",
    "my_pets = ['sisi', 'bibi', 'titi', 'carla']\n",
    "\n",
    "def caps(item):\n",
    "    return item.capitalize()\n",
    "\n",
    "print(list(map(caps, my_pets)))\n",
    "\n",
    "#2 Zip the 2 lists into a list of tuples, but sort the numbers from lowest to highest.\n",
    "my_strings = ['a', 'b', 'c', 'd', 'e']\n",
    "my_numbers = [5,4,3,2,1]\n",
    "\n",
    "print(list(zip(my_strings, sorted(my_numbers))))\n",
    "\n",
    "#3 Filter the scores that pass over 50%\n",
    "scores = [73, 20, 65, 19, 76, 100, 88]\n",
    "\n",
    "def over_50(item):\n",
    "    return item > 50\n",
    "print(list(filter(over_50, scores)))\n",
    "\n",
    "#4 Combine all of the numbers that are in \n",
    "# a list on this file using reduce \n",
    "#(my_numbers and scores). What is the total?\n",
    "def accumulator(acc, item):\n",
    "    return acc + item \n",
    "\n",
    "print(reduce(accumulator, (my_numbers + scores)))"
   ]
  },
  {
   "cell_type": "markdown",
   "metadata": {
    "nbpresent": {
     "id": "c4901eda-d02e-48d1-9656-27f32c09fcdb"
    }
   },
   "source": [
    "## 140. Lambda expressions\n",
    "\n",
    "One time anonymous functions that you don't need more than once. \n",
    "Lambda expressions are really useful when you're using them for functions that: \n",
    "\n",
    "1. you only need to use it once \n",
    "2. They are anonymous - we don't need to have a name for them because we don't need to store them anywhere on ht emachine. \n",
    "\n",
    "It looks like this:\n",
    "`lambda param: action(param)`\n"
   ]
  },
  {
   "cell_type": "code",
   "execution_count": 33,
   "metadata": {},
   "outputs": [
    {
     "name": "stdout",
     "output_type": "stream",
     "text": [
      "[2, 4, 6]\n"
     ]
    }
   ],
   "source": [
    "# lets use multiply by 2 for example. \n",
    "print(list(map(lambda item: item*2, my_list )))"
   ]
  },
  {
   "cell_type": "markdown",
   "metadata": {},
   "source": [
    "Once the interpreter runs the line of code above, it doesn't remember it but it performs the action for us. param is the parameter input option. \n",
    "This keeps the code clean and not clutered with so many functions. \n",
    "Other languages do also have anoynymous functions. Just like normal functions and we only use them once. This can be used for filter too.\n",
    "\n",
    "This helps reduce the amount of lines of code, however they do make the code a little bit less readable - more confusing to others"
   ]
  },
  {
   "cell_type": "code",
   "execution_count": 27,
   "metadata": {},
   "outputs": [
    {
     "name": "stdout",
     "output_type": "stream",
     "text": [
      "[1, 3]\n"
     ]
    }
   ],
   "source": [
    "print(list(filter(lambda item: item % 2 !=0, my_list)))"
   ]
  },
  {
   "cell_type": "code",
   "execution_count": 34,
   "metadata": {},
   "outputs": [],
   "source": [
    "from functools import reduce"
   ]
  },
  {
   "cell_type": "code",
   "execution_count": 35,
   "metadata": {},
   "outputs": [
    {
     "name": "stdout",
     "output_type": "stream",
     "text": [
      "6\n"
     ]
    }
   ],
   "source": [
    "print(reduce(lambda acc, item: acc +item, my_list))"
   ]
  },
  {
   "cell_type": "markdown",
   "metadata": {},
   "source": [
    "# 141. Lambda expressions exercise"
   ]
  },
  {
   "cell_type": "code",
   "execution_count": 43,
   "metadata": {},
   "outputs": [
    {
     "name": "stdout",
     "output_type": "stream",
     "text": [
      "[25, 16, 9]\n",
      "None\n",
      "[(10, -1), (0, 2), (4, 3), (9, 9)]\n"
     ]
    }
   ],
   "source": [
    "# create a lambda expression that will square our list \n",
    "my_list = [5, 4, 3]\n",
    "\n",
    "print(list(map(lambda item: item**2, my_list)))  # or \n",
    "new_list = list(map(lambda num: num**2, my_list))\n",
    "\n",
    "#List sorting - sort based on the second value in each tuple \n",
    "a = [(0,2), (4,3), (9,9), (10, -1)]\n",
    "print(a.sort(key=lambda x: x[1]))\n",
    "print(a)"
   ]
  },
  {
   "cell_type": "markdown",
   "metadata": {},
   "source": [
    "They for this tupe is that you want to iterate over each item. The key is always going to be by the second item. \n",
    "x - is the item and index `[1]` position 1 is always the second item. \n",
    "This is a common thing you can do for lambda functions or sort with different keys. For example this would work with a dictionary or another list inside of a list. Very common method for sorting. "
   ]
  },
  {
   "cell_type": "markdown",
   "metadata": {},
   "source": [
    "## 142. List Comprehensions\n",
    "Actually called list, set or dictionary comprehensions - the data structures in python. Can use comphrensions with these three data types. \n",
    "They are a quick way for us to creat lists or sets or dictionary in Python instead of perhaps looping or appending items to lists. "
   ]
  },
  {
   "cell_type": "code",
   "execution_count": 44,
   "metadata": {},
   "outputs": [
    {
     "name": "stdout",
     "output_type": "stream",
     "text": [
      "['h', 'e', 'l', 'l', 'o']\n"
     ]
    }
   ],
   "source": [
    "my_list = []\n",
    "\n",
    "for char in 'hello':\n",
    "    my_list.append(char)\n",
    "    \n",
    "print(my_list)"
   ]
  },
  {
   "cell_type": "code",
   "execution_count": 46,
   "metadata": {},
   "outputs": [
    {
     "name": "stdout",
     "output_type": "stream",
     "text": [
      "['h', 'e', 'l', 'l', 'o']\n"
     ]
    }
   ],
   "source": [
    "#There is a faster way of executing the above with list comprehension and python \n",
    "\n",
    "# Unique - not in many programming languages. The format is. \n",
    "\n",
    "# mylist = [param for param in iterable]\n",
    "\n",
    "my_list2 = [char for char in 'hello']\n",
    "print(my_list2)"
   ]
  },
  {
   "cell_type": "markdown",
   "metadata": {},
   "source": [
    "It basically creates a variable saying that for each variable in the iterable add it to the list. "
   ]
  },
  {
   "cell_type": "code",
   "execution_count": 47,
   "metadata": {},
   "outputs": [
    {
     "name": "stdout",
     "output_type": "stream",
     "text": [
      "[0, 1, 2, 3, 4, 5, 6, 7, 8, 9, 10, 11, 12, 13, 14, 15, 16, 17, 18, 19, 20, 21, 22, 23, 24, 25, 26, 27, 28, 29, 30, 31, 32, 33, 34, 35, 36, 37, 38, 39, 40, 41, 42, 43, 44, 45, 46, 47, 48, 49, 50, 51, 52, 53, 54, 55, 56, 57, 58, 59, 60, 61, 62, 63, 64, 65, 66, 67, 68, 69, 70, 71, 72, 73, 74, 75, 76, 77, 78, 79, 80, 81, 82, 83, 84, 85, 86, 87, 88, 89, 90, 91, 92, 93, 94, 95, 96, 97, 98, 99]\n"
     ]
    }
   ],
   "source": [
    "my_list3 = [num for num in range(0, 100)]\n",
    "print(my_list3)"
   ]
  },
  {
   "cell_type": "markdown",
   "metadata": {},
   "source": [
    "This returns a pre-populated list. "
   ]
  },
  {
   "cell_type": "code",
   "execution_count": 49,
   "metadata": {},
   "outputs": [
    {
     "name": "stdout",
     "output_type": "stream",
     "text": [
      "[0, 1, 4, 9, 16, 25, 36, 49, 64, 81, 100, 121, 144, 169, 196, 225, 256, 289, 324, 361, 400, 441, 484, 529, 576, 625, 676, 729, 784, 841, 900, 961, 1024, 1089, 1156, 1225, 1296, 1369, 1444, 1521, 1600, 1681, 1764, 1849, 1936, 2025, 2116, 2209, 2304, 2401, 2500, 2601, 2704, 2809, 2916, 3025, 3136, 3249, 3364, 3481, 3600, 3721, 3844, 3969, 4096, 4225, 4356, 4489, 4624, 4761, 4900, 5041, 5184, 5329, 5476, 5625, 5776, 5929, 6084, 6241, 6400, 6561, 6724, 6889, 7056, 7225, 7396, 7569, 7744, 7921, 8100, 8281, 8464, 8649, 8836, 9025, 9216, 9409, 9604, 9801]\n"
     ]
    }
   ],
   "source": [
    "# what if we wanted to the power of 2 in the range?\n",
    "my_list4 = [num**2 for num in range(0,100)]\n",
    "print(my_list4)"
   ]
  },
  {
   "cell_type": "code",
   "execution_count": 51,
   "metadata": {},
   "outputs": [
    {
     "name": "stdout",
     "output_type": "stream",
     "text": [
      "[0, 4, 16, 36, 64, 100, 144, 196, 256, 324, 400, 484, 576, 676, 784, 900, 1024, 1156, 1296, 1444, 1600, 1764, 1936, 2116, 2304, 2500, 2704, 2916, 3136, 3364, 3600, 3844, 4096, 4356, 4624, 4900, 5184, 5476, 5776, 6084, 6400, 6724, 7056, 7396, 7744, 8100, 8464, 8836, 9216, 9604]\n"
     ]
    }
   ],
   "source": [
    "# change it so that in mylist you keep only the even numbers.\n",
    "my_list5 = [num**2 for num in range(0,100) if num % 2 == 0]\n",
    "print(my_list5)"
   ]
  },
  {
   "cell_type": "markdown",
   "metadata": {},
   "source": [
    "Essentially a quick way to create lists. Shorthand form to do things uniquely. \n",
    "1. Need an expression first of what we want to do with each item we're iterating over. \n",
    "2. Loop using a for loop through an iterable\n",
    "3. We give it a variable which we're going to act upon\n",
    "4. Also have an option to add a conditiona\n",
    "\n",
    "Although list comprehensions are nice  because they're simple one liners, it can get confusing. You need to be really familiar, because it takes away from it's readability. "
   ]
  },
  {
   "cell_type": "markdown",
   "metadata": {},
   "source": [
    "# 143. Set and Dictionary Comprehensions\n",
    "For sets we can do the same thing we did with lists. Simply change the bracketed notation to a set which is a curly bracket \n",
    "\n",
    "Sets only allow unique items. \n",
    "\n",
    "For dictionaries:\n",
    "\n",
    "`my_dict = {key:value}` the value can be acted upon. \n"
   ]
  },
  {
   "cell_type": "code",
   "execution_count": 57,
   "metadata": {},
   "outputs": [
    {
     "name": "stdout",
     "output_type": "stream",
     "text": [
      "{'b': 4}\n"
     ]
    }
   ],
   "source": [
    "simple_dict = {\n",
    "    'a': 1,\n",
    "    'b': 2\n",
    "}\n",
    "my_dict = {key:value**2 for key, value in simple_dict.items() \n",
    "           if value % 2 == 0}\n",
    "print(my_dict)"
   ]
  },
  {
   "cell_type": "markdown",
   "metadata": {},
   "source": [
    "In order for us to create a dictionary we need both a key and a value. Need to pass it an iterable but an iterable - like a dictionary that has both key and value.\n",
    "\n",
    "It's simply a short hand way of writing some functions. (avoid doing it too much. \n",
    "\n"
   ]
  },
  {
   "cell_type": "code",
   "execution_count": 58,
   "metadata": {},
   "outputs": [
    {
     "name": "stdout",
     "output_type": "stream",
     "text": [
      "{1: 2, 2: 4, 3: 6}\n"
     ]
    }
   ],
   "source": [
    "my_dict = {num: num*2 for num in [1,2,3]}\n",
    "print(my_dict)"
   ]
  },
  {
   "cell_type": "markdown",
   "metadata": {},
   "source": [
    "# 144. Exercise comprehensions\n"
   ]
  },
  {
   "cell_type": "code",
   "execution_count": 62,
   "metadata": {},
   "outputs": [
    {
     "name": "stdout",
     "output_type": "stream",
     "text": [
      "['b', 'n']\n"
     ]
    }
   ],
   "source": [
    "some_list = ['a', 'b', 'c', 'b', 'd', 'm', 'n', 'n']\n",
    "\n",
    "duplicates = []\n",
    "for value in some_list:\n",
    "    if some_list.count(value) > 1:  # count shows home many times something appears\n",
    "        if value not in duplicates:\n",
    "            duplicates.append(value)\n",
    "\n",
    "print(duplicates)"
   ]
  },
  {
   "cell_type": "code",
   "execution_count": 67,
   "metadata": {},
   "outputs": [
    {
     "name": "stdout",
     "output_type": "stream",
     "text": [
      "[None, None, None, None, None, None]\n"
     ]
    }
   ],
   "source": [
    "# Create a comprehension that returns the exact same answer. \n",
    "new_list = ['a', 'b', 'c', 'b', 'd', 'm', 'n', 'n']\n",
    "\n",
    "new = []\n",
    "\n",
    "# WRONG\n",
    "third = [new.append(char) for char in some_list if char not in new]\n",
    "print(third)"
   ]
  },
  {
   "cell_type": "code",
   "execution_count": 73,
   "metadata": {},
   "outputs": [],
   "source": [
    "duplicate = list(set([x for x in some_list if some_list.count(x) > 1]))"
   ]
  },
  {
   "cell_type": "code",
   "execution_count": 74,
   "metadata": {},
   "outputs": [
    {
     "name": "stdout",
     "output_type": "stream",
     "text": [
      "['b', 'n']\n"
     ]
    }
   ],
   "source": [
    "print(duplicate)"
   ]
  },
  {
   "cell_type": "code",
   "execution_count": null,
   "metadata": {},
   "outputs": [],
   "source": []
  }
 ],
 "metadata": {
  "kernelspec": {
   "display_name": "Python 3.7.7 64-bit",
   "language": "python",
   "name": "python37764bitd795b8feca944f35b43010cc9c304760"
  },
  "language_info": {
   "codemirror_mode": {
    "name": "ipython",
    "version": 3
   },
   "file_extension": ".py",
   "mimetype": "text/x-python",
   "name": "python",
   "nbconvert_exporter": "python",
   "pygments_lexer": "ipython3",
   "version": "3.7.7"
  }
 },
 "nbformat": 4,
 "nbformat_minor": 2
}
