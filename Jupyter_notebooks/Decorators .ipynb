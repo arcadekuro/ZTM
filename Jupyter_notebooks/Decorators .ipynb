{
 "cells": [
  {
   "cell_type": "markdown",
   "metadata": {},
   "source": [
    "## 146. Decorators\n",
    "We've seen decorators before when using classes. "
   ]
  },
  {
   "cell_type": "code",
   "execution_count": null,
   "metadata": {},
   "outputs": [],
   "source": [
    "@classmethod\n",
    "@staticmethod"
   ]
  },
  {
   "cell_type": "markdown",
   "metadata": {},
   "source": [
    "They have the @ sign and then a name following it. In order for us to fully understand what decorators are. We need to talk about functions and why they're so powerful. \n",
    "In python, functions are what we call 'first class citizens' \n",
    "\n",
    "That is they can be passed around like variables. They can be an argument inside a function. They act just like variables. "
   ]
  },
  {
   "cell_type": "code",
   "execution_count": 8,
   "metadata": {},
   "outputs": [
    {
     "name": "stdout",
     "output_type": "stream",
     "text": [
      "hellloooo\n"
     ]
    },
    {
     "data": {
      "text/plain": [
       "'hellloooo'"
      ]
     },
     "execution_count": 8,
     "metadata": {},
     "output_type": "execute_result"
    }
   ],
   "source": [
    "def hello():\n",
    "    return('hellloooo')\n",
    "    \n",
    "    \n",
    "greet = hello()\n",
    "\n",
    "print(greet)\n",
    "del hello\n",
    "\n",
    "# del only deletes the function name reference. However, because greet is still pointing\n",
    "# to the function. \n",
    "\n",
    "hello()"
   ]
  },
  {
   "cell_type": "markdown",
   "metadata": {},
   "source": [
    "Python is smart enough to only delete the nam of the function but not the actual function because greet is still pointing to it. So functions are first class citizens. We can also pass functions around inside of arguments\n"
   ]
  },
  {
   "cell_type": "code",
   "execution_count": 19,
   "metadata": {},
   "outputs": [
    {
     "name": "stdout",
     "output_type": "stream",
     "text": [
      "still here!\n"
     ]
    }
   ],
   "source": [
    "def hello2(func):\n",
    "    return func()\n",
    "    \n",
    "\n",
    "def greet():\n",
    "    return 'still here!'\n",
    "    \n",
    "a = hello2(greet)\n",
    "\n",
    "print(a)"
   ]
  },
  {
   "cell_type": "markdown",
   "metadata": {},
   "source": [
    "What does this have to do with decorators? \n",
    "Decorators are only possible because of these features. This ability for functions to act like variables in python. Underneath the hood decorators are using the ability of functions. "
   ]
  },
  {
   "cell_type": "code",
   "execution_count": null,
   "metadata": {},
   "outputs": [],
   "source": [
    "@decorator \n",
    "def hello():\n",
    "    pass"
   ]
  },
  {
   "cell_type": "markdown",
   "metadata": {},
   "source": [
    "## 147. Higher Order functions?\n",
    "To first understand decorators we also need to understand the idea of  a **higher order function**\n",
    "\n",
    "Can either be:\n",
    "1. a function that accepts another function inside of it's parameters\n",
    "2. If it's a function that returns another function. "
   ]
  },
  {
   "cell_type": "code",
   "execution_count": 21,
   "metadata": {},
   "outputs": [],
   "source": [
    "# 1 \n",
    "def greet(func):\n",
    "    func()\n",
    "    \n",
    "# 2 \n",
    "def greet2():\n",
    "    def func():\n",
    "        reuturn 5  \n",
    "    \n",
    "    return func()"
   ]
  },
  {
   "cell_type": "markdown",
   "metadata": {},
   "source": [
    "## 148. Decorators 2 \n",
    "The decorator can actually be used ontop when definining our functions. The decorator didn't change any of the functionality that would normally occur when running function\n",
    "So what advantages does this provide?We can enhance the function passed into the wrap. \n",
    "We can do anything inside this wrapped function"
   ]
  },
  {
   "cell_type": "code",
   "execution_count": 26,
   "metadata": {},
   "outputs": [
    {
     "name": "stdout",
     "output_type": "stream",
     "text": [
      "*****\n",
      "hellooo\n",
      "******\n"
     ]
    }
   ],
   "source": [
    "\n",
    "def my_decorator(func):\n",
    "    def wrap_func():\n",
    "        print('*****')\n",
    "        func()\n",
    "        print('******')\n",
    "    return wrap_func\n",
    "\n",
    "@my_decorator\n",
    "def hello3():\n",
    "    print('hellooo')\n",
    "\n",
    "hello3()"
   ]
  },
  {
   "cell_type": "markdown",
   "metadata": {},
   "source": [
    "Just by adding a line for printing you can super boost a function. \n",
    "\n",
    "To super boost another function, all you need to do is copy the decorator and use it above the function.\n"
   ]
  },
  {
   "cell_type": "code",
   "execution_count": 28,
   "metadata": {},
   "outputs": [
    {
     "name": "stdout",
     "output_type": "stream",
     "text": [
      "*****\n",
      "see you later\n",
      "******\n"
     ]
    }
   ],
   "source": [
    "@my_decorator\n",
    "def bye():\n",
    "    print('see you later')\n",
    "    \n",
    "bye()"
   ]
  },
  {
   "cell_type": "markdown",
   "metadata": {},
   "source": [
    "Undertneath the hood all we're doing is saying is we're wrapping the hello decorator and assigining it to a function.  then simply calling the function again. \n"
   ]
  },
  {
   "cell_type": "code",
   "execution_count": 30,
   "metadata": {},
   "outputs": [
    {
     "name": "stdout",
     "output_type": "stream",
     "text": [
      "*****\n",
      "******\n"
     ]
    }
   ],
   "source": [
    "a = my_decorator(hello)()\n",
    "a()"
   ]
  },
  {
   "cell_type": "markdown",
   "metadata": {},
   "source": [
    "The reason decorators are useful is because instead of writing this confusing one line assignment statement, can just add the `@mydecorator`. The @ sign simply automatically wraps. "
   ]
  },
  {
   "cell_type": "markdown",
   "metadata": {},
   "source": [
    "## 149. Decorators 3 \n",
    "What happens if this Hello function actually took a parammeter such as a string. Would it still work? No, because you will need to pass parameters, but this can be adjusted by adding parametes to the function, and wrapper function:"
   ]
  },
  {
   "cell_type": "code",
   "execution_count": 32,
   "metadata": {},
   "outputs": [
    {
     "name": "stdout",
     "output_type": "stream",
     "text": [
      "*****\n",
      "what you saying?\n",
      "******\n"
     ]
    }
   ],
   "source": [
    "\n",
    "def my_decorator2(func):\n",
    "    def wrap_func(x):\n",
    "        print('*****')\n",
    "        func(x)\n",
    "        print('******')\n",
    "    return wrap_func\n",
    "\n",
    "@my_decorator2\n",
    "def greet2(greeting):\n",
    "    print(greeting)\n",
    "\n",
    "greet2('what you saying?')"
   ]
  },
  {
   "cell_type": "code",
   "execution_count": 33,
   "metadata": {},
   "outputs": [
    {
     "name": "stdout",
     "output_type": "stream",
     "text": [
      "*****\n",
      "*****\n",
      "hi\n",
      "******\n",
      "******\n"
     ]
    }
   ],
   "source": [
    "#This is similar to \n",
    "b = my_decorator2(greet2)\n",
    "b('hi')"
   ]
  },
  {
   "cell_type": "markdown",
   "metadata": {},
   "source": [
    "However everytime you need to change the parameters and add more argguments when calling the function. What if there were keyword arguments? it gets more complex.\n",
    "There's a pattern here we can use to make things easy for us. \n",
    "\n",
    "All we would do is add the star argss. `*args & **kwargs`.\n",
    "This is called the decorator pattern. It gives our decorator flexibility so that we're able to pass as many arguments as we want into our wrapped function. \n"
   ]
  },
  {
   "cell_type": "code",
   "execution_count": 37,
   "metadata": {},
   "outputs": [
    {
     "name": "stdout",
     "output_type": "stream",
     "text": [
      "*****\n",
      "Hi :)\n",
      "******\n"
     ]
    }
   ],
   "source": [
    "\n",
    "def my_decorator3(func):\n",
    "    def wrap_func(*args, **kwargs):\n",
    "        print('*****')\n",
    "        func(*args, **kwargs)\n",
    "        print('******')\n",
    "    return wrap_func\n",
    "\n",
    "@my_decorator3\n",
    "def greet3(*args):\n",
    "    print(*args)\n",
    "\n",
    "greet3('Hi', ':)')"
   ]
  },
  {
   "cell_type": "markdown",
   "metadata": {},
   "source": [
    "## 150. Why do we need decorators?\n",
    "Build a performance decorator from scratch - that shows how fast our function runs"
   ]
  },
  {
   "cell_type": "code",
   "execution_count": 2,
   "metadata": {},
   "outputs": [
    {
     "name": "stdout",
     "output_type": "stream",
     "text": [
      "took 6.198883056640625e-05 s\n"
     ]
    }
   ],
   "source": [
    "#Decorator\n",
    "from time import time  \n",
    "\n",
    "def performance(fn):\n",
    "    def wrapper(*args, **kwargs):\n",
    "        t1 = time()\n",
    "        result = fn(*args, **kwargs)\n",
    "        t2 = time()\n",
    "        print(f'took {t2-t1} s')\n",
    "        return result\n",
    "    return wrapper\n",
    "\n",
    "@performance\n",
    "def long_time():\n",
    "    for i in range(1000):\n",
    "        i*5\n",
    "\n",
    "long_time()"
   ]
  },
  {
   "cell_type": "markdown",
   "metadata": {},
   "source": [
    "This is useful because before you deploy the code, or push the code into production, you can test how performant the functions are. Optimise things in different ways. This performance decorator depends on the machine and how fast your CPU and memory power is on the machine. \n",
    "\n",
    "Decorators are used a lot in python frameworks. You might want an authernication decorator which is run if the user is authenticated - maybe the user has the privillage to run a function such as logging in to a website.\n",
    "\n",
    "Or maybe a logging decorater that logs your database - let you know someone has accessed the datbase or purchased something. "
   ]
  },
  {
   "cell_type": "markdown",
   "metadata": {},
   "source": [
    "## 151. Exercise: @authenticated \n"
   ]
  },
  {
   "cell_type": "code",
   "execution_count": 5,
   "metadata": {},
   "outputs": [
    {
     "name": "stdout",
     "output_type": "stream",
     "text": [
      "message has been sent\n"
     ]
    }
   ],
   "source": [
    "# Create an @authenticated decorator that only allows the function to run is user1 has 'valid' set to True:\n",
    "user1 = {\n",
    "    'name': 'Sorna',\n",
    "    'valid': True #changing this will either run or not run the message_friends function.\n",
    "}\n",
    "\n",
    "def authenticated(fn):\n",
    "  # code here\n",
    "    def wrapper(*args, **kwargs):\n",
    "        if args[0]['valid']:\n",
    "            return fn(*args, **kwargs)\n",
    "    return wrapper\n",
    "\n",
    "@authenticated\n",
    "def message_friends(user):\n",
    "    print('message has been sent')\n",
    "\n",
    "message_friends(user1)"
   ]
  },
  {
   "cell_type": "code",
   "execution_count": null,
   "metadata": {},
   "outputs": [],
   "source": []
  }
 ],
 "metadata": {
  "kernelspec": {
   "display_name": "Python [default]",
   "language": "python",
   "name": "python3"
  },
  "language_info": {
   "codemirror_mode": {
    "name": "ipython",
    "version": 3
   },
   "file_extension": ".py",
   "mimetype": "text/x-python",
   "name": "python",
   "nbconvert_exporter": "python",
   "pygments_lexer": "ipython3",
   "version": "3.6.5"
  }
 },
 "nbformat": 4,
 "nbformat_minor": 2
}
